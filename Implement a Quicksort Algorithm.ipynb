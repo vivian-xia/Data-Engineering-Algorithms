{
 "cells": [
  {
   "cell_type": "markdown",
   "metadata": {
    "id": "fmzfrGIAoVRT"
   },
   "source": [
    "#### Vivian Xia\n",
    "\n",
    "## Implement a Quicksort Algorithm"
   ]
  },
  {
   "cell_type": "code",
   "execution_count": null,
   "metadata": {
    "id": "pCJYp92pBb05"
   },
   "outputs": [],
   "source": [
    "import pandas as pd\n",
    "import numpy as np\n",
    "import matplotlib.pyplot as plt\n",
    "import time\n",
    "import timeit\n",
    "\n",
    "import random\n",
    "from string import ascii_letters\n",
    "\n",
    "from tabulate import tabulate"
   ]
  },
  {
   "cell_type": "code",
   "execution_count": null,
   "metadata": {
    "id": "1G_pGRr9BdU3"
   },
   "outputs": [],
   "source": [
    "def quicksort(array):\n",
    "  if len(array) < 2:\n",
    "    # base case, arrays with 0 or 1 element are already \"sorted\"\n",
    "    return array\n",
    "  else:\n",
    "    # recursive case\n",
    "    pivot = array[0]\n",
    "    # sub-array of all the elements less than the pivot\n",
    "    less = [i for i in array[1:] if i <= pivot]\n",
    "    # sub-array of all the elements greater than the pivot\n",
    "    greater = [i for i in array[1:] if i > pivot]\n",
    "    return quicksort(less) + [pivot] + quicksort(greater)"
   ]
  },
  {
   "cell_type": "code",
   "execution_count": null,
   "metadata": {
    "id": "Kk09sTnHBdgd"
   },
   "outputs": [],
   "source": [
    "def gnomeSort( arr, n):\n",
    "\tindex = 0\n",
    "\twhile index < n:\n",
    "\t\tif index == 0:\n",
    "\t\t\tindex = index + 1\n",
    "\t\tif arr[index] >= arr[index - 1]:\n",
    "\t\t\tindex = index + 1\n",
    "\t\telse:\n",
    "\t\t\tarr[index], arr[index-1] = arr[index-1], arr[index]\n",
    "\t\t\tindex = index - 1\n",
    "\n",
    "\treturn arr"
   ]
  },
  {
   "cell_type": "code",
   "execution_count": null,
   "metadata": {
    "id": "ZgqP8TitBdi3"
   },
   "outputs": [],
   "source": [
    "def cycleSort(array):\n",
    "  writes = 0\n",
    "   \n",
    "  # Loop through the array to find cycles to rotate.\n",
    "  for cycleStart in range(0, len(array) - 1):\n",
    "    item = array[cycleStart]\n",
    "     \n",
    "    # Find where to put the item.\n",
    "    pos = cycleStart\n",
    "    for i in range(cycleStart + 1, len(array)):\n",
    "      if array[i] < item:\n",
    "        pos += 1\n",
    "     \n",
    "    # If the item is already there, this is not a cycle.\n",
    "    if pos == cycleStart:\n",
    "      continue\n",
    "     \n",
    "    # Otherwise, put the item there or right after any duplicates.\n",
    "    while item == array[pos]:\n",
    "      pos += 1\n",
    "    array[pos], item = item, array[pos]\n",
    "    writes += 1\n",
    "     \n",
    "    # Rotate the rest of the cycle.\n",
    "    while pos != cycleStart:\n",
    "       \n",
    "      # Find where to put the item.\n",
    "      pos = cycleStart\n",
    "      for i in range(cycleStart + 1, len(array)):\n",
    "        if array[i] < item:\n",
    "          pos += 1\n",
    "       \n",
    "      # Put the item there or right after any duplicates.\n",
    "      while item == array[pos]:\n",
    "        pos += 1\n",
    "      array[pos], item = item, array[pos]\n",
    "      writes += 1\n",
    "   \n",
    "  return writes"
   ]
  },
  {
   "cell_type": "code",
   "execution_count": null,
   "metadata": {
    "id": "BUZO-gobN3uI"
   },
   "outputs": [],
   "source": [
    "def generate_list(len):\n",
    "  \"\"\" Generate List Algorithm.\n",
    "    \n",
    "  Generate a list composed of 50 character strings.\n",
    "    \n",
    "  Parameters\n",
    "  ----------\n",
    "  len: length that is generated in the array.\n",
    "    \n",
    "  \"\"\"\n",
    "  np.random.seed(12345)\n",
    "  list_string = []\n",
    "\n",
    "  for string in range(len):\n",
    "    string = ''.join(random.choice(ascii_letters) for i in range(50)) #random 50 character string\n",
    "    list_string.append(string)\n",
    "  \n",
    "  return list_string"
   ]
  },
  {
   "cell_type": "code",
   "execution_count": null,
   "metadata": {
    "id": "1OU6QO8WBdeL"
   },
   "outputs": [],
   "source": [
    "def sort_times(list_string):\n",
    "  \"\"\" Sort Times Algorithm.\n",
    "    \n",
    "  Time the quicksort, gnome sort, and cycle sort for a list.\n",
    "    \n",
    "  Parameters\n",
    "  ----------\n",
    "  list_string: list of strings that are sorted.\n",
    "    \n",
    "  \"\"\"\n",
    "\n",
    "  #quicksort\n",
    "  start_time = time.perf_counter()\n",
    "  quicksort(list_string)\n",
    "  end_time = time.perf_counter()\n",
    "  quicksort_time = end_time - start_time\n",
    "\n",
    "  #gnome sort\n",
    "  start_time = time.perf_counter()\n",
    "  gnomeSort(list_string, len(list_string))\n",
    "  end_time = time.perf_counter()\n",
    "  gnomesort_time = end_time - start_time\n",
    "\n",
    "  #cycle sort\n",
    "  start_time = time.perf_counter()\n",
    "  cycleSort(list_string)\n",
    "  end_time = time.perf_counter()\n",
    "  cycle_time = end_time - start_time\n",
    "\n",
    "  return len(list_string), quicksort_time, gnomesort_time, cycle_time"
   ]
  },
  {
   "cell_type": "code",
   "execution_count": null,
   "metadata": {
    "id": "uFyuPjuBKZ0w"
   },
   "outputs": [],
   "source": [
    "time_list = []\n",
    "\n",
    "list_string = generate_list(200)\n",
    "time_list.append(sort_times(list_string))\n",
    "\n",
    "list_string = generate_list(400)\n",
    "time_list.append(sort_times(list_string))\n",
    "\n",
    "list_string = generate_list(600)\n",
    "time_list.append(sort_times(list_string))\n",
    "\n",
    "list_string = generate_list(800)\n",
    "time_list.append(sort_times(list_string))\n",
    "\n",
    "list_string = generate_list(1000)\n",
    "time_list.append(sort_times(list_string))"
   ]
  },
  {
   "cell_type": "markdown",
   "metadata": {
    "id": "z0hAaAVTpcxa"
   },
   "source": [
    "I would have put the above code block into a loop but faced a type error from the quicksort function line pertaining to len(). "
   ]
  },
  {
   "cell_type": "code",
   "execution_count": null,
   "metadata": {
    "colab": {
     "base_uri": "https://localhost:8080/"
    },
    "id": "pC8bKz13H8gt",
    "outputId": "f5d4407e-64ee-4349-8ec6-22520e48b104"
   },
   "outputs": [
    {
     "name": "stdout",
     "output_type": "stream",
     "text": [
      "╒════════════════╤═════════════╤══════════════╤══════════════╕\n",
      "│   Array Length │   Quicksort │   Gnome sort │   Cycle sort │\n",
      "╞════════════════╪═════════════╪══════════════╪══════════════╡\n",
      "│            200 │  0.00093595 │    0.0095466 │   0.00269165 │\n",
      "├────────────────┼─────────────┼──────────────┼──────────────┤\n",
      "│            400 │  0.00120281 │    0.0300803 │   0.00696193 │\n",
      "├────────────────┼─────────────┼──────────────┼──────────────┤\n",
      "│            600 │  0.00158766 │    0.0669763 │   0.0173566  │\n",
      "├────────────────┼─────────────┼──────────────┼──────────────┤\n",
      "│            800 │  0.00219677 │    0.106104  │   0.0346237  │\n",
      "├────────────────┼─────────────┼──────────────┼──────────────┤\n",
      "│           1000 │  0.0048313  │    0.26269   │   0.0426104  │\n",
      "╘════════════════╧═════════════╧══════════════╧══════════════╛\n"
     ]
    }
   ],
   "source": [
    "col_names = [\"Array Length\",\"Quicksort\",\"Gnome sort\",\"Cycle sort\"]\n",
    "\n",
    "print(tabulate(time_list, headers=col_names, tablefmt=\"fancy_grid\"))"
   ]
  },
  {
   "cell_type": "code",
   "execution_count": null,
   "metadata": {
    "colab": {
     "base_uri": "https://localhost:8080/",
     "height": 206
    },
    "id": "mRXiWQZSBdlV",
    "outputId": "cea69e0b-897c-4cec-a9f0-7dd6502f981e"
   },
   "outputs": [
    {
     "data": {
      "text/html": [
       "\n",
       "  <div id=\"df-c541ab32-7d2a-4d8b-b358-8312df3107f7\">\n",
       "    <div class=\"colab-df-container\">\n",
       "      <div>\n",
       "<style scoped>\n",
       "    .dataframe tbody tr th:only-of-type {\n",
       "        vertical-align: middle;\n",
       "    }\n",
       "\n",
       "    .dataframe tbody tr th {\n",
       "        vertical-align: top;\n",
       "    }\n",
       "\n",
       "    .dataframe thead th {\n",
       "        text-align: right;\n",
       "    }\n",
       "</style>\n",
       "<table border=\"1\" class=\"dataframe\">\n",
       "  <thead>\n",
       "    <tr style=\"text-align: right;\">\n",
       "      <th></th>\n",
       "      <th>Array Length</th>\n",
       "      <th>Quicksort</th>\n",
       "      <th>Gnome sort</th>\n",
       "      <th>Cycle sort</th>\n",
       "    </tr>\n",
       "  </thead>\n",
       "  <tbody>\n",
       "    <tr>\n",
       "      <th>0</th>\n",
       "      <td>200</td>\n",
       "      <td>0.000936</td>\n",
       "      <td>0.009547</td>\n",
       "      <td>0.002692</td>\n",
       "    </tr>\n",
       "    <tr>\n",
       "      <th>1</th>\n",
       "      <td>400</td>\n",
       "      <td>0.001203</td>\n",
       "      <td>0.030080</td>\n",
       "      <td>0.006962</td>\n",
       "    </tr>\n",
       "    <tr>\n",
       "      <th>2</th>\n",
       "      <td>600</td>\n",
       "      <td>0.001588</td>\n",
       "      <td>0.066976</td>\n",
       "      <td>0.017357</td>\n",
       "    </tr>\n",
       "    <tr>\n",
       "      <th>3</th>\n",
       "      <td>800</td>\n",
       "      <td>0.002197</td>\n",
       "      <td>0.106104</td>\n",
       "      <td>0.034624</td>\n",
       "    </tr>\n",
       "    <tr>\n",
       "      <th>4</th>\n",
       "      <td>1000</td>\n",
       "      <td>0.004831</td>\n",
       "      <td>0.262690</td>\n",
       "      <td>0.042610</td>\n",
       "    </tr>\n",
       "  </tbody>\n",
       "</table>\n",
       "</div>\n",
       "      <button class=\"colab-df-convert\" onclick=\"convertToInteractive('df-c541ab32-7d2a-4d8b-b358-8312df3107f7')\"\n",
       "              title=\"Convert this dataframe to an interactive table.\"\n",
       "              style=\"display:none;\">\n",
       "        \n",
       "  <svg xmlns=\"http://www.w3.org/2000/svg\" height=\"24px\"viewBox=\"0 0 24 24\"\n",
       "       width=\"24px\">\n",
       "    <path d=\"M0 0h24v24H0V0z\" fill=\"none\"/>\n",
       "    <path d=\"M18.56 5.44l.94 2.06.94-2.06 2.06-.94-2.06-.94-.94-2.06-.94 2.06-2.06.94zm-11 1L8.5 8.5l.94-2.06 2.06-.94-2.06-.94L8.5 2.5l-.94 2.06-2.06.94zm10 10l.94 2.06.94-2.06 2.06-.94-2.06-.94-.94-2.06-.94 2.06-2.06.94z\"/><path d=\"M17.41 7.96l-1.37-1.37c-.4-.4-.92-.59-1.43-.59-.52 0-1.04.2-1.43.59L10.3 9.45l-7.72 7.72c-.78.78-.78 2.05 0 2.83L4 21.41c.39.39.9.59 1.41.59.51 0 1.02-.2 1.41-.59l7.78-7.78 2.81-2.81c.8-.78.8-2.07 0-2.86zM5.41 20L4 18.59l7.72-7.72 1.47 1.35L5.41 20z\"/>\n",
       "  </svg>\n",
       "      </button>\n",
       "      \n",
       "  <style>\n",
       "    .colab-df-container {\n",
       "      display:flex;\n",
       "      flex-wrap:wrap;\n",
       "      gap: 12px;\n",
       "    }\n",
       "\n",
       "    .colab-df-convert {\n",
       "      background-color: #E8F0FE;\n",
       "      border: none;\n",
       "      border-radius: 50%;\n",
       "      cursor: pointer;\n",
       "      display: none;\n",
       "      fill: #1967D2;\n",
       "      height: 32px;\n",
       "      padding: 0 0 0 0;\n",
       "      width: 32px;\n",
       "    }\n",
       "\n",
       "    .colab-df-convert:hover {\n",
       "      background-color: #E2EBFA;\n",
       "      box-shadow: 0px 1px 2px rgba(60, 64, 67, 0.3), 0px 1px 3px 1px rgba(60, 64, 67, 0.15);\n",
       "      fill: #174EA6;\n",
       "    }\n",
       "\n",
       "    [theme=dark] .colab-df-convert {\n",
       "      background-color: #3B4455;\n",
       "      fill: #D2E3FC;\n",
       "    }\n",
       "\n",
       "    [theme=dark] .colab-df-convert:hover {\n",
       "      background-color: #434B5C;\n",
       "      box-shadow: 0px 1px 3px 1px rgba(0, 0, 0, 0.15);\n",
       "      filter: drop-shadow(0px 1px 2px rgba(0, 0, 0, 0.3));\n",
       "      fill: #FFFFFF;\n",
       "    }\n",
       "  </style>\n",
       "\n",
       "      <script>\n",
       "        const buttonEl =\n",
       "          document.querySelector('#df-c541ab32-7d2a-4d8b-b358-8312df3107f7 button.colab-df-convert');\n",
       "        buttonEl.style.display =\n",
       "          google.colab.kernel.accessAllowed ? 'block' : 'none';\n",
       "\n",
       "        async function convertToInteractive(key) {\n",
       "          const element = document.querySelector('#df-c541ab32-7d2a-4d8b-b358-8312df3107f7');\n",
       "          const dataTable =\n",
       "            await google.colab.kernel.invokeFunction('convertToInteractive',\n",
       "                                                     [key], {});\n",
       "          if (!dataTable) return;\n",
       "\n",
       "          const docLinkHtml = 'Like what you see? Visit the ' +\n",
       "            '<a target=\"_blank\" href=https://colab.research.google.com/notebooks/data_table.ipynb>data table notebook</a>'\n",
       "            + ' to learn more about interactive tables.';\n",
       "          element.innerHTML = '';\n",
       "          dataTable['output_type'] = 'display_data';\n",
       "          await google.colab.output.renderOutput(dataTable, element);\n",
       "          const docLink = document.createElement('div');\n",
       "          docLink.innerHTML = docLinkHtml;\n",
       "          element.appendChild(docLink);\n",
       "        }\n",
       "      </script>\n",
       "    </div>\n",
       "  </div>\n",
       "  "
      ],
      "text/plain": [
       "   Array Length  Quicksort  Gnome sort  Cycle sort\n",
       "0           200   0.000936    0.009547    0.002692\n",
       "1           400   0.001203    0.030080    0.006962\n",
       "2           600   0.001588    0.066976    0.017357\n",
       "3           800   0.002197    0.106104    0.034624\n",
       "4          1000   0.004831    0.262690    0.042610"
      ]
     },
     "execution_count": 9,
     "metadata": {},
     "output_type": "execute_result"
    }
   ],
   "source": [
    "df = pd.DataFrame(time_list) #create a dataframe of the list of times\n",
    "df.columns = col_names\n",
    "df.head()"
   ]
  },
  {
   "cell_type": "code",
   "execution_count": null,
   "metadata": {
    "colab": {
     "base_uri": "https://localhost:8080/",
     "height": 295
    },
    "id": "UP1oZbQFBdn1",
    "outputId": "42e04f36-cefc-4398-ad39-4b52c761a413"
   },
   "outputs": [
    {
     "data": {
      "image/png": "[encoded data removed]",
      "text/plain": [
       "<Figure size 432x288 with 1 Axes>"
      ]
     },
     "metadata": {
      "needs_background": "light"
     },
     "output_type": "display_data"
    }
   ],
   "source": [
    "plt.plot(df['Array Length'], df['Quicksort'], label = 'Quicksort')\n",
    "plt.plot(df['Array Length'], df['Gnome sort'], label = 'Gnome sort')\n",
    "plt.plot(df['Array Length'], df['Cycle sort'], label = 'Cycle sort')\n",
    "\n",
    "plt.title('Sort Algorithm Performance')\n",
    "plt.xlabel('Array Length')\n",
    "plt.ylabel('Execution Time')\n",
    "plt.legend()\n",
    "\n",
    "plt.show()"
   ]
  },
  {
   "cell_type": "markdown",
   "metadata": {
    "id": "VhzqUp3Kp-yw"
   },
   "source": [
    "A list of random 50 character strings with lengths of 200, 400, 600, 800, and 10000 were generated. The length of each list differ by a multiple of 200. Three sorting algorithms and these five lists are compared. \n",
    "\n",
    "The quicksort algorithm uses the technique of divide and conquer. It sorts each list by taking the first element as the pivot. The array is then split into two sub-arrays. One sub-array is made up of the strings less than the pivot and the other sub-array is made up of the strings greater than the pivot. If there is more than one string, the algorithm continues to split the sub-arrays further as the recursive case dictates until it reaches the base case. The base case is when there are less than two strings in the array. The time complexity for the quicksort varies depending on the pivot, but the worst case is O(n^2). However, its average case is O(n log n). \n",
    "\n",
    "The gnome sort algorithm sorts each element in the list by iterating through each pair of strings and comparing those two to see if they are in the right order. If not, the two strings swap positions. Once the first and second strings are compared, then the second and third are compared and so on. If the second and third swapped positions, then the first and new second element are to be compared again before moving on to the next pair. This algorithm has a time complexity of O(n^2). \n",
    "\n",
    "The cycle sort algorithm loops through each array to find cycles to rotate the elements, starting with the first element. Each element within the cycle is rotated forward so that the elements in the current cycle end up in its right position. The time complexity for the cycle sort is also O(n^2). This time complexity is for all cases including the worst, best, and average. \n",
    "\n",
    "Despite the fact that these three algorithms have the same worst case time complexity, it can be seen from the table and graph that the quicksort algorithm scales much better than the other two. The quicksort takes on its average time complexity of O(n log n). This can be seen by the consistently low execution time despite the increasing lengths of each list. From the graph, it can be seen that the cycle sort scales worse than the quicksort but better than the gnome sort. The cycle sort graph does start to curve up as the list length increases. The rate that it is sorting at increases. The gnome sort scales the worst among the three sorts. The gnome sort increases at a faster rate than the cycle sort as seen by the way the gnome sort graph more steeply increases compared to the cycle sort. As the load increases, the run time's rate will continue to increase the most with gnome sort then cycle sort, compromising the performance. However, the quick sort will be able to scale with the larger load and continue with efficient run times. "
   ]
  }
 ],
 "metadata": {
  "colab": {
   "collapsed_sections": [],
   "name": "Assignment 4 Implement a Quicksort Algorithm.ipynb",
   "provenance": []
  },
  "kernelspec": {
   "display_name": "Python 3",
   "language": "python",
   "name": "python3"
  },
  "language_info": {
   "codemirror_mode": {
    "name": "ipython",
    "version": 3
   },
   "file_extension": ".py",
   "mimetype": "text/x-python",
   "name": "python",
   "nbconvert_exporter": "python",
   "pygments_lexer": "ipython3",
   "version": "3.8.5"
  }
 },
 "nbformat": 4,
 "nbformat_minor": 1
}
