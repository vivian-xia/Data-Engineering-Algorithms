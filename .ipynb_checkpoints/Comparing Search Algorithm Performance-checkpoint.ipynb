{
 "cells": [
  {
   "cell_type": "markdown",
   "metadata": {},
   "source": [
    "#### Vivian Xia\n",
    "## Comparing Search Algorithm Performance"
   ]
  },
  {
   "cell_type": "code",
   "execution_count": 1,
   "metadata": {},
   "outputs": [],
   "source": [
    "import pandas as pd\n",
    "import numpy as np\n",
    "import matplotlib.pyplot as plt\n",
    "import time\n",
    "import timeit\n",
    "\n",
    "from random import seed\n",
    "from random import random\n",
    "\n",
    "from tabulate import tabulate"
   ]
  },
  {
   "cell_type": "code",
   "execution_count": 2,
   "metadata": {},
   "outputs": [],
   "source": [
    "#binary search algorithm\n",
    "class BinarySearch():\n",
    "\n",
    "  def search_iterative(self, list, item):\n",
    "    # low and high keep track of which part of the list you'll search in.\n",
    "    low = 0\n",
    "    high = len(list) - 1\n",
    "\n",
    "    # While you haven't narrowed it down to one element ...\n",
    "    while low <= high:\n",
    "      # ... check the middle element\n",
    "      mid = (low + high) // 2\n",
    "      guess = list[mid]\n",
    "      # Found the item.\n",
    "      if guess == item:\n",
    "        return mid\n",
    "      # The guess was too high.\n",
    "      if guess > item:\n",
    "        high = mid - 1\n",
    "      # The guess was too low.\n",
    "      else:\n",
    "        low = mid + 1\n",
    "\n",
    "    # Item doesn't exist\n",
    "    return None\n"
   ]
  },
  {
   "cell_type": "code",
   "execution_count": 3,
   "metadata": {},
   "outputs": [],
   "source": [
    "#linear search algorithm\n",
    "def linear_search(mylist, item):\n",
    "    \n",
    "    i = 0\n",
    "    while i < len(mylist):\n",
    "        if mylist[i] == item:\n",
    "            return i\n",
    "        else:\n",
    "            i = i + 1\n",
    "        \n",
    "    return None"
   ]
  },
  {
   "cell_type": "code",
   "execution_count": 4,
   "metadata": {},
   "outputs": [],
   "source": [
    "#sort, binary, linear search times\n",
    "def sort_search_time(array_len):\n",
    "    \"\"\" Sort and Search Time Algorithm.\n",
    "    \n",
    "    Time the sort on a list of random integers.\n",
    "    Time the binary and linear search for the last/maximum value in the array.\n",
    "    \n",
    "    Parameters\n",
    "    ----------\n",
    "    array_len: length that is generated in the array.\n",
    "    \n",
    "    \"\"\"\n",
    "    \n",
    "    bs = BinarySearch()\n",
    "    time.sleep(1) #suspend execution for 1 seconds to capture a better level of detail\n",
    "    np.random.seed(12345) #set random number seed\n",
    "    \n",
    "    start_time = time.perf_counter()\n",
    "    set = np.sort(np.random.randint(1, 10000, array_len)) #generate random list between 1 to 10000 then sort\n",
    "    end_time = time.perf_counter()\n",
    "    sort_time_set = end_time - start_time #sorting time\n",
    "    \n",
    "    start_time = time.perf_counter()\n",
    "    bs.search_iterative(set, set[-1]) #binary search on the list to find its last value\n",
    "    end_time = time.perf_counter()\n",
    "    bs_time = end_time - start_time #binary search time\n",
    "    \n",
    "    start_time = time.perf_counter()\n",
    "    linear_search(set, set[-1]) #linear search on the list to find its last value \n",
    "    end_time = time.perf_counter()\n",
    "    ls_time = end_time - start_time #linear search time\n",
    "    \n",
    "    return array_len, sort_time_set, ls_time, bs_time, sort_time_set + bs_time"
   ]
  },
  {
   "cell_type": "code",
   "execution_count": 5,
   "metadata": {},
   "outputs": [],
   "source": [
    "length_array = [512, 1024, 2048, 4096, 8192] #list of array lengths\n",
    "time_list = [] #empty list to store sorting and searching times\n",
    "\n",
    "for length in length_array:\n",
    "    time_list.append(sort_search_time(length)) #use sort search time algorithm for each length and store in time_list"
   ]
  },
  {
   "cell_type": "code",
   "execution_count": 6,
   "metadata": {},
   "outputs": [
    {
     "name": "stdout",
     "output_type": "stream",
     "text": [
      "╒════════════════╤═════════════╤══════════════════════╤══════════════════════╤══════════════════════════════════╕\n",
      "│   Array Length │   Sort Time │   Linear Search Time │   Binary Search Time │   Binary Search Time + Sort Time │\n",
      "╞════════════════╪═════════════╪══════════════════════╪══════════════════════╪══════════════════════════════════╡\n",
      "│            512 │ 0.000507375 │          0.000318875 │           2.825e-05  │                      0.000535625 │\n",
      "├────────────────┼─────────────┼──────────────────────┼──────────────────────┼──────────────────────────────────┤\n",
      "│           1024 │ 0.000384625 │          0.000519667 │           2.4042e-05 │                      0.000408667 │\n",
      "├────────────────┼─────────────┼──────────────────────┼──────────────────────┼──────────────────────────────────┤\n",
      "│           2048 │ 0.000411584 │          0.00104108  │           2.2584e-05 │                      0.000434168 │\n",
      "├────────────────┼─────────────┼──────────────────────┼──────────────────────┼──────────────────────────────────┤\n",
      "│           4096 │ 0.000663333 │          0.00220667  │           2.1416e-05 │                      0.000684749 │\n",
      "├────────────────┼─────────────┼──────────────────────┼──────────────────────┼──────────────────────────────────┤\n",
      "│           8192 │ 0.00136637  │          0.00559583  │           3.3875e-05 │                      0.00140025  │\n",
      "╘════════════════╧═════════════╧══════════════════════╧══════════════════════╧══════════════════════════════════╛\n"
     ]
    }
   ],
   "source": [
    "col_names = [\"Array Length\",\"Sort Time\", \"Linear Search Time\", \"Binary Search Time\", \"Binary Search Time + Sort Time\"]\n",
    "\n",
    "print(tabulate(time_list, headers=col_names, tablefmt=\"fancy_grid\"))"
   ]
  },
  {
   "cell_type": "markdown",
   "metadata": {},
   "source": [
    "The linear search times are slower than the binary search times consistently for each corresponding array length. The linear search times continue to increase to twice the time for double the amount in array length. The binary search time generally decreases as the array length doubles. "
   ]
  },
  {
   "cell_type": "code",
   "execution_count": 7,
   "metadata": {},
   "outputs": [
    {
     "data": {
      "text/html": [
       "<div>\n",
       "<style scoped>\n",
       "    .dataframe tbody tr th:only-of-type {\n",
       "        vertical-align: middle;\n",
       "    }\n",
       "\n",
       "    .dataframe tbody tr th {\n",
       "        vertical-align: top;\n",
       "    }\n",
       "\n",
       "    .dataframe thead th {\n",
       "        text-align: right;\n",
       "    }\n",
       "</style>\n",
       "<table border=\"1\" class=\"dataframe\">\n",
       "  <thead>\n",
       "    <tr style=\"text-align: right;\">\n",
       "      <th></th>\n",
       "      <th>Array Length</th>\n",
       "      <th>Sort Time</th>\n",
       "      <th>Linear Search Time</th>\n",
       "      <th>Binary Search Time</th>\n",
       "      <th>Binary Search Time + Sort Time</th>\n",
       "    </tr>\n",
       "  </thead>\n",
       "  <tbody>\n",
       "    <tr>\n",
       "      <th>0</th>\n",
       "      <td>512</td>\n",
       "      <td>0.000507</td>\n",
       "      <td>0.000319</td>\n",
       "      <td>0.000028</td>\n",
       "      <td>0.000536</td>\n",
       "    </tr>\n",
       "    <tr>\n",
       "      <th>1</th>\n",
       "      <td>1024</td>\n",
       "      <td>0.000385</td>\n",
       "      <td>0.000520</td>\n",
       "      <td>0.000024</td>\n",
       "      <td>0.000409</td>\n",
       "    </tr>\n",
       "    <tr>\n",
       "      <th>2</th>\n",
       "      <td>2048</td>\n",
       "      <td>0.000412</td>\n",
       "      <td>0.001041</td>\n",
       "      <td>0.000023</td>\n",
       "      <td>0.000434</td>\n",
       "    </tr>\n",
       "    <tr>\n",
       "      <th>3</th>\n",
       "      <td>4096</td>\n",
       "      <td>0.000663</td>\n",
       "      <td>0.002207</td>\n",
       "      <td>0.000021</td>\n",
       "      <td>0.000685</td>\n",
       "    </tr>\n",
       "    <tr>\n",
       "      <th>4</th>\n",
       "      <td>8192</td>\n",
       "      <td>0.001366</td>\n",
       "      <td>0.005596</td>\n",
       "      <td>0.000034</td>\n",
       "      <td>0.001400</td>\n",
       "    </tr>\n",
       "  </tbody>\n",
       "</table>\n",
       "</div>"
      ],
      "text/plain": [
       "   Array Length  Sort Time  Linear Search Time  Binary Search Time  \\\n",
       "0           512   0.000507            0.000319            0.000028   \n",
       "1          1024   0.000385            0.000520            0.000024   \n",
       "2          2048   0.000412            0.001041            0.000023   \n",
       "3          4096   0.000663            0.002207            0.000021   \n",
       "4          8192   0.001366            0.005596            0.000034   \n",
       "\n",
       "   Binary Search Time + Sort Time  \n",
       "0                        0.000536  \n",
       "1                        0.000409  \n",
       "2                        0.000434  \n",
       "3                        0.000685  \n",
       "4                        0.001400  "
      ]
     },
     "execution_count": 7,
     "metadata": {},
     "output_type": "execute_result"
    }
   ],
   "source": [
    "df = pd.DataFrame(time_list) #create a dataframe of the list of times\n",
    "df.columns = col_names\n",
    "df.head()"
   ]
  },
  {
   "cell_type": "code",
   "execution_count": 8,
   "metadata": {},
   "outputs": [
    {
     "data": {
      "image/png": "[encoded data removed]",
      "text/plain": [
       "<Figure size 432x288 with 1 Axes>"
      ]
     },
     "metadata": {
      "needs_background": "light"
     },
     "output_type": "display_data"
    }
   ],
   "source": [
    "plt.plot(df['Array Length'], df['Linear Search Time'], label = 'Linear') #plot linear search times\n",
    "plt.plot(df['Array Length'], df['Binary Search Time'], label = 'Binary') #plot binary search times\n",
    "\n",
    "plt.title('Search Algorithm Performance')\n",
    "plt.xlabel('Array Length')\n",
    "plt.ylabel('Execution Time')\n",
    "plt.legend()\n",
    "\n",
    "plt.show()"
   ]
  },
  {
   "cell_type": "markdown",
   "metadata": {},
   "source": [
    "The linear search algorithm searches for the number by checking each element one by one starting from the first element. On the other hand, the binary search algorithm searches for the number by continuously checking the middle element to narrow the list down by half the number of elements each time until the number is found. \n",
    "\n",
    "In order to run a search algorithm, the list of elements must be sorted. In a list of n elements, the linear search takes n steps to run the worst case in the length of a list, so it can be denoted as O(n). The linear search runs on linear time which can be seen in the table and graph above. In the graph, the linear search times steadily increases at the same rate or slope as the array length increases. From the table, it can be seen that, as the array length doubles, the linear search times also approximately doubles as well. \n",
    "\n",
    "The binary search takes log2 n steps to run the worst case, which is also denoted as O(log n). The binary search runs on logarithmic time. In the graph, the binary search times stay around the similar low execution times even when the array length increases. It can be seen in the table, the binary search time from a list of 1024 elements is actually faster than the search time for a list of 512 elements. As the the number of elements continue to increase, the search time for binary searches decreases. \n",
    "\n",
    "From both the table and graph, it is evident that the linear search times will always be slower than the binary search times for worst cases, especially when the load starts to increase. The binary search algorithm will be useful to data engineers when it comes to finding a specific number, item, user, etc. in a large list or database in the shortest time possible. It also accomodates for future growth in the load, so performance will not be compromised. "
   ]
  }
 ],
 "metadata": {
  "kernelspec": {
   "display_name": "Python 3",
   "language": "python",
   "name": "python3"
  },
  "language_info": {
   "codemirror_mode": {
    "name": "ipython",
    "version": 3
   },
   "file_extension": ".py",
   "mimetype": "text/x-python",
   "name": "python",
   "nbconvert_exporter": "python",
   "pygments_lexer": "ipython3",
   "version": "3.8.5"
  }
 },
 "nbformat": 4,
 "nbformat_minor": 5
}
