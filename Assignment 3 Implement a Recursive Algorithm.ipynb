{
 "cells": [
  {
   "cell_type": "markdown",
   "metadata": {},
   "source": [
    "#### Vivian Xia\n",
    "\n",
    "## Implement a Recursive Algorithm"
   ]
  },
  {
   "cell_type": "code",
   "execution_count": 1,
   "metadata": {},
   "outputs": [],
   "source": [
    "import pandas as pd\n",
    "import numpy as np\n",
    "import matplotlib.pyplot as plt\n",
    "import time\n",
    "import timeit\n",
    "\n",
    "from random import seed\n",
    "from random import random\n",
    "\n",
    "from tabulate import tabulate"
   ]
  },
  {
   "cell_type": "code",
   "execution_count": 2,
   "metadata": {},
   "outputs": [],
   "source": [
    "def fact(x):\n",
    "    time.sleep(0.30)\n",
    "    if x == 1:\n",
    "        return 1\n",
    "    else:\n",
    "        return x * fact(x-1)\n",
    "\n",
    "def fact_iter(x):\n",
    "    time.sleep(0.30)\n",
    "    ans = 1\n",
    "    for i in range(1,x+1): \n",
    "        ans = ans * i \n",
    "    return ans"
   ]
  },
  {
   "cell_type": "code",
   "execution_count": 3,
   "metadata": {},
   "outputs": [],
   "source": [
    "def factorial(number):\n",
    "    \"\"\" Calculate and Time the Factorial Algorithms.\n",
    "    \n",
    "    Time the calculation of the number using the iterative and recursive algorithm.\n",
    "    \n",
    "    Parameters\n",
    "    ----------\n",
    "    number: integer whose factorial is calculated.\n",
    "    \n",
    "    \"\"\"\n",
    "    \n",
    "    start_time = time.perf_counter()\n",
    "    fact_iter(number) #iterative \n",
    "    end_time = time.perf_counter()\n",
    "    fact_iter_time = end_time - start_time\n",
    "    \n",
    "    start_time = time.perf_counter()\n",
    "    fact(number) #recursive\n",
    "    end_time = time.perf_counter()\n",
    "    fact_time = end_time - start_time\n",
    "    \n",
    "    difference = fact_time - fact_iter_time \n",
    "        \n",
    "    return number, fact_iter_time, fact_time, difference"
   ]
  },
  {
   "cell_type": "code",
   "execution_count": 4,
   "metadata": {},
   "outputs": [],
   "source": [
    "np.random.seed(12345) #set random number seed\n",
    "list = np.random.randint(100, 500, 10) #generate random array with 10 numbers between 100 and 500"
   ]
  },
  {
   "cell_type": "code",
   "execution_count": 5,
   "metadata": {},
   "outputs": [
    {
     "name": "stderr",
     "output_type": "stream",
     "text": [
      "<ipython-input-2-de9b1b7d5b6f>:6: RuntimeWarning: overflow encountered in long_scalars\n",
      "  return x * fact(x-1)\n"
     ]
    }
   ],
   "source": [
    "time_list = [] #empty list to store times\n",
    "solution_list = [] #empty list to store solutions\n",
    "\n",
    "for number in list:\n",
    "    time_list.append(factorial(number))"
   ]
  },
  {
   "cell_type": "code",
   "execution_count": 6,
   "metadata": {},
   "outputs": [
    {
     "name": "stdout",
     "output_type": "stream",
     "text": [
      "╒══════════╤══════════════════╤══════════════════╤══════════════════════════════════╕\n",
      "│   Number │   Time recursive │   Time iterative │   Recursive Minus Iterative Time │\n",
      "╞══════════╪══════════════════╪══════════════════╪══════════════════════════════════╡\n",
      "│      129 │         0.301709 │          39.1409 │                          38.8392 │\n",
      "├──────────┼──────────────────┼──────────────────┼──────────────────────────────────┤\n",
      "│      134 │         0.304115 │          40.6135 │                          40.3094 │\n",
      "├──────────┼──────────────────┼──────────────────┼──────────────────────────────────┤\n",
      "│      218 │         0.302517 │          66.1582 │                          65.8556 │\n",
      "├──────────┼──────────────────┼──────────────────┼──────────────────────────────────┤\n",
      "│      229 │         0.303371 │          69.4758 │                          69.1725 │\n",
      "├──────────┼──────────────────┼──────────────────┼──────────────────────────────────┤\n",
      "│      357 │         0.305226 │         108.245  │                         107.94   │\n",
      "├──────────┼──────────────────┼──────────────────┼──────────────────────────────────┤\n",
      "│      385 │         0.305528 │         116.781  │                         116.476  │\n",
      "├──────────┼──────────────────┼──────────────────┼──────────────────────────────────┤\n",
      "│      415 │         0.302736 │         125.852  │                         125.549  │\n",
      "├──────────┼──────────────────┼──────────────────┼──────────────────────────────────┤\n",
      "│      457 │         0.301853 │         138.621  │                         138.319  │\n",
      "├──────────┼──────────────────┼──────────────────┼──────────────────────────────────┤\n",
      "│      469 │         0.304686 │         142.28   │                         141.976  │\n",
      "├──────────┼──────────────────┼──────────────────┼──────────────────────────────────┤\n",
      "│      482 │         0.305437 │         146.152  │                         145.846  │\n",
      "╘══════════╧══════════════════╧══════════════════╧══════════════════════════════════╛\n"
     ]
    }
   ],
   "source": [
    "col_names = [\"Number\",\"Time recursive\",\"Time iterative\",\"Recursive Minus Iterative Time\"]\n",
    "\n",
    "print(tabulate(sorted(time_list), headers=col_names, tablefmt=\"fancy_grid\"))"
   ]
  },
  {
   "cell_type": "code",
   "execution_count": 7,
   "metadata": {},
   "outputs": [
    {
     "name": "stdout",
     "output_type": "stream",
     "text": [
      "The factorial of 385 is 77789258200022682857262524611415309149847055830033034109882689650252194969679085094625004160614777142840032749700960018016880257150600760973387063625465151973977979879777238796637512249859636989563488396079390053459321567631753747632959254354510911723355274009752250302167318747380739790814322278867448117858757749562590484682648929702787022262746051020728642181787640182285101009794037643386965050892754788419216225960187559786147684262118679388088477835523732297315903458517415743852458900263831761206810157984267061814227152746582087453048037976549155699326580418348947419613236026536061943703203702535568264627840497844830538486783779191495261331727855882465027081574803712043311976266948667916187775974266352925870275040925817241600000000000000000000000000000000000000000000000000000000000000000000000000000000000000000000000.\n",
      "The factorial of 229 is 33732988281246631312231192603881658445278052743458840718712889236282367011484303215665878263671808510473104357910834923135801089160730558502584546478140492931762178344960651257787782487606306108805041844155770227520332958438954037460012581035419818101023839748419742537773095643163544986346340944373186757069199399927422509706902590528316188824776642524044590757250443816327637360107847680000000000000000000000000000000000000000000000000000000.\n",
      "The factorial of 482 is 435933949881706146185718511304022620331968745845696308618989380214746662872081201214854711693852231732404048122880178053692000205127254778216975041802702271618681733339890065193599009975076013136714329018060221602517153669498477294431399206596481384215651276430295654864886553893106103606645895064195599420506195328458470365558643958259184463943470591942680583248392745348579334970692406316666157365883539310276888883614714687736002885162056576683004704301031178915273547964899645382792627722052063923746611003756596161566731341666389284259340092071686451734587202193646664713472794665952353280839514373940878869578768789501033178345653514287066340081587910092811900077012442779478054189118608706853641992476017024395285806775111070814423067110416520652929939936130201962616871157293056320763528097941663308796661109677023082692774690168113039696589058078507674594688442368775667700995276213464306721134831989965530345400973893111430551273311836259175757306554293944320000000000000000000000000000000000000000000000000000000000000000000000000000000000000000000000000000000000000000000000.\n",
      "The factorial of 457 is 68905268499416699117821153198821949700273536434599701103480349133893677226970767866518890055444151267294154162677334045997717728486139089285322653217720089331219835987673641915798622793421299209264359115719734483914239856865616570015850879710593007063646021240074408981533284953925883536516950473860035789959930111348665862472268867134561504625085921570502584466952308765145613353912132394205643235647223855983341422938699259265986004719437960457948219460822621290065988995684294907191161928506637942269280862227575997952506061393102397495425157983475588037214839404262478556162662443437655546825269064833169416001119369295675851891433260829771718941380292167783963236337932552318052587286866647013609523382937597620342387866259745174096465984008970640266512473470374921697426165231078860629412638786940892381038883253007788010705554414346269927672089234265254175694088646260961519172751083314733295935160320000000000000000000000000000000000000000000000000000000000000000000000000000000000000000000000000000000000000000.\n",
      "The factorial of 134 is 1992942746161518876737324194182948445222558439641379420268181650403332765909000151088003004705990626788174304488982644980314383013435909872030129915047718433336536425741860482713199069412263880294400000000000000000000000000000000.\n",
      "The factorial of 129 is 49745042224772874403902341504126809639656611137138843145968864022652168932196355119328515747917449637889876686464600208839390308261862352651828829226610077151044469167497022952331930501120000000000000000000000000000000.\n",
      "The factorial of 357 is 86089171981770753433609946947360469937358770518842076782003789410500952945102846156036054326173761106234407804307888401369702745339845097491755512263955132574198043880097875946075241256920534870811684390740552172007692377939405549996990584325016064835497365786670968483269731014088377225039094447618460316618389853053117846212583845756020962581719327258331288648623909404902567487504704994447722795612324646474000881379691210742660084241526570755445004999052217230570876447697234725703921234514866137330519609284367167113600715520292894181897732550877568570232753972014022765558486368378557449376209106562521009075121683480721460903087800140223715682125670949596522610688000000000000000000000000000000000000000000000000000000000000000000000000000000000000000.\n",
      "The factorial of 218 is 474026636761029775300387269637885788095262156817399066370617417211711849855339320439555116187613346398029588666682187541512982673977624958479903896285192317905194305948729000291610119288614158064992350939341542922260450295429029866029684735423934482000512012373371714687797391831850026682680610229339536077759026539436134194974261725583681683758619191510313792962560000000000000000000000000000000000000000000000000000.\n",
      "The factorial of 469 is 6771809666814951090078098205921092630097304291263066689630559074774525142447184007305762763442421770725114092822705957080019042451228133287148860595524240233812489820122183939806694404080077527002970969584543292287630544586142014239190459749648469882432442933384316338091649537065068392681213994475836951089119464503300878295302090154722579587854791254270965907845414460537762207088049697282726328555607116186099077373651980256783889962371885438686404533158415954983623150617956689007183586171393829154088055309330317838503641810537956733159890231787245317005985231955133140354966820210493701210180557206081743319586562783558586771455569196271619890286337844481766232045971514172910445313637577400039358514632483337745414550651707898430509116599561410860077955290085729607431062591624089690664545106790788292656781049602521979928058755091005116842532541468923075585511652756873916300631610812438491817640759437271068791514921900133318656000000000000000000000000000000000000000000000000000000000000000000000000000000000000000000000000000000000000000000.\n",
      "The factorial of 415 is 92459456435575901208758507163717393274019629720180918942846763875123117380095161961566999882551575708758444650094628742900044951941528184435972423976195736236628213904127728451539228574748647673305124766779332611312871213398658768210508983263956106671545148251739209008011442126922171620813209132669597581547547964609093577216168463437985471180240472386783673164227314948727171094250689544946206162253523460188876565533797336276916978173511323756324007234236208689293245999364928953032391842720295806240118984636690718182035068786669822441743094331531816222349687982563718824264397620542656901315471851578311054867459529655711375162874720515056499204505055999610014930164284986862220668668751898712565668054143136796845099173779318052992883391820378791547009738776757781997852859355143471786307133231857664000000000000000000000000000000000000000000000000000000000000000000000000000000000000000000000000000000.\n"
     ]
    }
   ],
   "source": [
    "#factorial for each value in the list -- too large to store in table or dataframe\n",
    "for number in list:\n",
    "    print(f\"The factorial of {number} is {fact_iter(number)}.\")"
   ]
  },
  {
   "cell_type": "code",
   "execution_count": 8,
   "metadata": {},
   "outputs": [
    {
     "data": {
      "text/html": [
       "<div>\n",
       "<style scoped>\n",
       "    .dataframe tbody tr th:only-of-type {\n",
       "        vertical-align: middle;\n",
       "    }\n",
       "\n",
       "    .dataframe tbody tr th {\n",
       "        vertical-align: top;\n",
       "    }\n",
       "\n",
       "    .dataframe thead th {\n",
       "        text-align: right;\n",
       "    }\n",
       "</style>\n",
       "<table border=\"1\" class=\"dataframe\">\n",
       "  <thead>\n",
       "    <tr style=\"text-align: right;\">\n",
       "      <th></th>\n",
       "      <th>Number</th>\n",
       "      <th>Time recursive</th>\n",
       "      <th>Time iterative</th>\n",
       "      <th>Recursive Minus Iterative Time</th>\n",
       "    </tr>\n",
       "  </thead>\n",
       "  <tbody>\n",
       "    <tr>\n",
       "      <th>0</th>\n",
       "      <td>385</td>\n",
       "      <td>0.305528</td>\n",
       "      <td>116.781322</td>\n",
       "      <td>116.475794</td>\n",
       "    </tr>\n",
       "    <tr>\n",
       "      <th>1</th>\n",
       "      <td>229</td>\n",
       "      <td>0.303371</td>\n",
       "      <td>69.475833</td>\n",
       "      <td>69.172462</td>\n",
       "    </tr>\n",
       "    <tr>\n",
       "      <th>2</th>\n",
       "      <td>482</td>\n",
       "      <td>0.305437</td>\n",
       "      <td>146.151518</td>\n",
       "      <td>145.846081</td>\n",
       "    </tr>\n",
       "    <tr>\n",
       "      <th>3</th>\n",
       "      <td>457</td>\n",
       "      <td>0.301853</td>\n",
       "      <td>138.620877</td>\n",
       "      <td>138.319023</td>\n",
       "    </tr>\n",
       "    <tr>\n",
       "      <th>4</th>\n",
       "      <td>134</td>\n",
       "      <td>0.304115</td>\n",
       "      <td>40.613526</td>\n",
       "      <td>40.309411</td>\n",
       "    </tr>\n",
       "    <tr>\n",
       "      <th>5</th>\n",
       "      <td>129</td>\n",
       "      <td>0.301709</td>\n",
       "      <td>39.140906</td>\n",
       "      <td>38.839197</td>\n",
       "    </tr>\n",
       "    <tr>\n",
       "      <th>6</th>\n",
       "      <td>357</td>\n",
       "      <td>0.305226</td>\n",
       "      <td>108.245242</td>\n",
       "      <td>107.940016</td>\n",
       "    </tr>\n",
       "    <tr>\n",
       "      <th>7</th>\n",
       "      <td>218</td>\n",
       "      <td>0.302517</td>\n",
       "      <td>66.158159</td>\n",
       "      <td>65.855642</td>\n",
       "    </tr>\n",
       "    <tr>\n",
       "      <th>8</th>\n",
       "      <td>469</td>\n",
       "      <td>0.304686</td>\n",
       "      <td>142.280447</td>\n",
       "      <td>141.975761</td>\n",
       "    </tr>\n",
       "    <tr>\n",
       "      <th>9</th>\n",
       "      <td>415</td>\n",
       "      <td>0.302736</td>\n",
       "      <td>125.852155</td>\n",
       "      <td>125.549419</td>\n",
       "    </tr>\n",
       "  </tbody>\n",
       "</table>\n",
       "</div>"
      ],
      "text/plain": [
       "   Number  Time recursive  Time iterative  Recursive Minus Iterative Time\n",
       "0     385        0.305528      116.781322                      116.475794\n",
       "1     229        0.303371       69.475833                       69.172462\n",
       "2     482        0.305437      146.151518                      145.846081\n",
       "3     457        0.301853      138.620877                      138.319023\n",
       "4     134        0.304115       40.613526                       40.309411\n",
       "5     129        0.301709       39.140906                       38.839197\n",
       "6     357        0.305226      108.245242                      107.940016\n",
       "7     218        0.302517       66.158159                       65.855642\n",
       "8     469        0.304686      142.280447                      141.975761\n",
       "9     415        0.302736      125.852155                      125.549419"
      ]
     },
     "execution_count": 8,
     "metadata": {},
     "output_type": "execute_result"
    }
   ],
   "source": [
    "df = pd.DataFrame(time_list) #create a dataframe of the list of times\n",
    "df.columns = col_names\n",
    "df"
   ]
  },
  {
   "cell_type": "code",
   "execution_count": 9,
   "metadata": {},
   "outputs": [
    {
     "data": {
      "image/png": "[encoded data removed]",
      "text/plain": [
       "<Figure size 432x288 with 1 Axes>"
      ]
     },
     "metadata": {
      "needs_background": "light"
     },
     "output_type": "display_data"
    }
   ],
   "source": [
    "plt.plot(df['Number'], df['Time iterative'], label = 'Iterative')\n",
    "plt.plot(df['Number'], df['Time recursive'], label = \"Recursive\")\n",
    "\n",
    "plt.title('Factorial Iterative and Recursive Algorithm Performance')\n",
    "plt.xlabel('Number Used to Calculate')\n",
    "plt.ylabel('Execution Time')\n",
    "plt.legend()\n",
    "\n",
    "plt.show()"
   ]
  },
  {
   "cell_type": "markdown",
   "metadata": {},
   "source": [
    "An iterative algorithm loops through a set of instructions until the answer is found and the condition is satisfied. A recursive algorithm calls upon the function itself until the answer is found. One advantage of the recursive method is that it is usually simpler code-wise than the iterative method. The recursive method has a base and recursive case. The recursive case is when the function calls itself, and the base case is when the function does not call itself again. In this case, the base case is achieved when the number reaches 1, otherwise the recursive case continues calling the function again. As the function is called again, the calling function is partially completed and still in the call stack until the called function finished and pops off the stack. This stacking takes up a lot of memory. The iterative method, on the other hand, does not use much memory when looping through since it does not need to keep saving the partially completed functions in its call stack. \n",
    "\n",
    "As seen from the plot, the recursive algorithm execution time increases as the number whose factorial is being calculated increases. The rate of the time increases along with the value.On the other hand, the iterative algorithm stays around the same execution time for all the values used to calculate. The difference between the execution times for recursive and iterative can be seen getting wider and wider as the value increases. This increasing larger difference can also be seen by going down that difference column in the table. The time complexity of the recursive method exponentially grows while that of the iterative method scales with the larger input values. \n",
    "\n",
    "The difference in algorithms is useful for data engineers because there are memory and time complexity differences between the two. The iterative algorithm does not take up memory and is scalable in terms of time complexity. The recursive method often simplifies the code but takes up memory and its time complexity does not scale well. "
   ]
  }
 ],
 "metadata": {
  "kernelspec": {
   "display_name": "Python 3",
   "language": "python",
   "name": "python3"
  },
  "language_info": {
   "codemirror_mode": {
    "name": "ipython",
    "version": 3
   },
   "file_extension": ".py",
   "mimetype": "text/x-python",
   "name": "python",
   "nbconvert_exporter": "python",
   "pygments_lexer": "ipython3",
   "version": "3.8.5"
  }
 },
 "nbformat": 4,
 "nbformat_minor": 4
}
