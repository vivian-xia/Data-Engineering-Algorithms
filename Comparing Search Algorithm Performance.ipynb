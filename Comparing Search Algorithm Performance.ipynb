{
 "cells": [
  {
   "cell_type": "markdown",
   "id": "e22eded4",
   "metadata": {},
   "source": [
    "#### Vivian Xia\n",
    "## Comparing Search Algorithm Performance"
   ]
  },
  {
   "cell_type": "code",
   "execution_count": 1,
   "id": "5bc749b8",
   "metadata": {},
   "outputs": [],
   "source": [
    "import pandas as pd\n",
    "import numpy as np\n",
    "import matplotlib.pyplot as plt\n",
    "import time\n",
    "import timeit\n",
    "\n",
    "from random import seed\n",
    "from random import random\n",
    "\n",
    "from tabulate import tabulate"
   ]
  },
  {
   "cell_type": "code",
   "execution_count": 2,
   "id": "aed663d8",
   "metadata": {},
   "outputs": [],
   "source": [
    "#binary search algorithm\n",
    "class BinarySearch():\n",
    "\n",
    "  def search_iterative(self, list, item):\n",
    "    # low and high keep track of which part of the list you'll search in.\n",
    "    low = 0\n",
    "    high = len(list) - 1\n",
    "\n",
    "    # While you haven't narrowed it down to one element ...\n",
    "    while low <= high:\n",
    "      # ... check the middle element\n",
    "      mid = (low + high) // 2\n",
    "      guess = list[mid]\n",
    "      # Found the item.\n",
    "      if guess == item:\n",
    "        return mid\n",
    "      # The guess was too high.\n",
    "      if guess > item:\n",
    "        high = mid - 1\n",
    "      # The guess was too low.\n",
    "      else:\n",
    "        low = mid + 1\n",
    "\n",
    "    # Item doesn't exist\n",
    "    return None\n"
   ]
  },
  {
   "cell_type": "code",
   "execution_count": 3,
   "id": "917345b5",
   "metadata": {},
   "outputs": [],
   "source": [
    "#linear search algorithm\n",
    "def linear_search(mylist, item):\n",
    "    \n",
    "    i = 0\n",
    "    while i < len(mylist):\n",
    "        if mylist[i] == item:\n",
    "            return i\n",
    "        else:\n",
    "            i = i + 1\n",
    "        \n",
    "    return None"
   ]
  },
  {
   "cell_type": "code",
   "execution_count": 4,
   "id": "ee70fe18",
   "metadata": {},
   "outputs": [],
   "source": [
    "#sort, binary, linear search times\n",
    "def sort_search_time(array_len):\n",
    "    \"\"\" Sort and Search Time Algorithm.\n",
    "    \n",
    "    Time the sort on a list of random integers.\n",
    "    Time the binary and linear search for the last/maximum value in the array.\n",
    "    \n",
    "    Parameters\n",
    "    ----------\n",
    "    array_len: length that is generated in the array.\n",
    "    \n",
    "    \"\"\"\n",
    "    \n",
    "    bs = BinarySearch()\n",
    "    \n",
    "    start_time = time.perf_counter()\n",
    "    set = np.sort(np.random.randint(1, 10000, array_len)) #generate random list between 1 to 10000 then sort\n",
    "    end_time = time.perf_counter()\n",
    "    sort_time_set = end_time - start_time #sorting time\n",
    "    \n",
    "    start_time = time.perf_counter()\n",
    "    bs.search_iterative(set, set[-1]) #binary search on the list to find its last value\n",
    "    end_time = time.perf_counter()\n",
    "    bs_time = end_time - start_time #binary search time\n",
    "    \n",
    "    start_time = time.perf_counter()\n",
    "    linear_search(set, set[-1]) #linear search on the list to find its last value \n",
    "    end_time = time.perf_counter()\n",
    "    ls_time = end_time - start_time #linear search time\n",
    "    \n",
    "    return array_len, sort_time_set, ls_time, bs_time, sort_time_set + bs_time"
   ]
  },
  {
   "cell_type": "code",
   "execution_count": 5,
   "id": "7187c289",
   "metadata": {},
   "outputs": [],
   "source": [
    "np.random.seed(12345) #set random number seed\n",
    "\n",
    "length_array = [512, 1024, 2048, 4096, 8192] #list of array lengths\n",
    "time_list = [] #empty list to store sorting and searching times\n",
    "\n",
    "for length in length_array:\n",
    "    time_list.append(sort_search_time(length)) #use sort search time algorithm for each length and store in time_list"
   ]
  },
  {
   "cell_type": "code",
   "execution_count": 6,
   "id": "08d45b82",
   "metadata": {},
   "outputs": [
    {
     "name": "stdout",
     "output_type": "stream",
     "text": [
      "╒════════════════╤═════════════╤══════════════════════╤══════════════════════╤══════════════════════════════════╕\n",
      "│   Array Length │   Sort Time │   Linear Search Time │   Binary Search Time │   Binary Search Time + Sort Time │\n",
      "╞════════════════╪═════════════╪══════════════════════╪══════════════════════╪══════════════════════════════════╡\n",
      "│            512 │ 0.000968    │          0.00015025  │            9.458e-06 │                      0.000977458 │\n",
      "├────────────────┼─────────────┼──────────────────────┼──────────────────────┼──────────────────────────────────┤\n",
      "│           1024 │ 0.000175792 │          0.000202459 │            7.042e-06 │                      0.000182834 │\n",
      "├────────────────┼─────────────┼──────────────────────┼──────────────────────┼──────────────────────────────────┤\n",
      "│           2048 │ 0.000255458 │          0.00042     │            5.042e-06 │                      0.0002605   │\n",
      "├────────────────┼─────────────┼──────────────────────┼──────────────────────┼──────────────────────────────────┤\n",
      "│           4096 │ 0.000286833 │          0.000839958 │            7.708e-06 │                      0.000294541 │\n",
      "├────────────────┼─────────────┼──────────────────────┼──────────────────────┼──────────────────────────────────┤\n",
      "│           8192 │ 0.000520209 │          0.00155642  │            7.25e-06  │                      0.000527459 │\n",
      "╘════════════════╧═════════════╧══════════════════════╧══════════════════════╧══════════════════════════════════╛\n"
     ]
    }
   ],
   "source": [
    "col_names = [\"Array Length\",\"Sort Time\", \"Linear Search Time\", \"Binary Search Time\", \"Binary Search Time + Sort Time\"]\n",
    "\n",
    "print(tabulate(time_list, headers=col_names, tablefmt=\"fancy_grid\"))"
   ]
  },
  {
   "cell_type": "markdown",
   "id": "6342a5d0",
   "metadata": {},
   "source": [
    "The linear search times are slower than the binary search times consistently for each corresponding array length. The linear search times continue to increase to twice the time for double the amount in array length. The binary search time generally decreases as the array length doubles. "
   ]
  },
  {
   "cell_type": "code",
   "execution_count": 7,
   "id": "89378be0",
   "metadata": {},
   "outputs": [
    {
     "data": {
      "text/html": [
       "<div>\n",
       "<style scoped>\n",
       "    .dataframe tbody tr th:only-of-type {\n",
       "        vertical-align: middle;\n",
       "    }\n",
       "\n",
       "    .dataframe tbody tr th {\n",
       "        vertical-align: top;\n",
       "    }\n",
       "\n",
       "    .dataframe thead th {\n",
       "        text-align: right;\n",
       "    }\n",
       "</style>\n",
       "<table border=\"1\" class=\"dataframe\">\n",
       "  <thead>\n",
       "    <tr style=\"text-align: right;\">\n",
       "      <th></th>\n",
       "      <th>Array Length</th>\n",
       "      <th>Sort Time</th>\n",
       "      <th>Linear Search Time</th>\n",
       "      <th>Binary Search Time</th>\n",
       "      <th>Binary Search Time + Sort Time</th>\n",
       "    </tr>\n",
       "  </thead>\n",
       "  <tbody>\n",
       "    <tr>\n",
       "      <th>0</th>\n",
       "      <td>512</td>\n",
       "      <td>0.000968</td>\n",
       "      <td>0.000150</td>\n",
       "      <td>0.000009</td>\n",
       "      <td>0.000977</td>\n",
       "    </tr>\n",
       "    <tr>\n",
       "      <th>1</th>\n",
       "      <td>1024</td>\n",
       "      <td>0.000176</td>\n",
       "      <td>0.000202</td>\n",
       "      <td>0.000007</td>\n",
       "      <td>0.000183</td>\n",
       "    </tr>\n",
       "    <tr>\n",
       "      <th>2</th>\n",
       "      <td>2048</td>\n",
       "      <td>0.000255</td>\n",
       "      <td>0.000420</td>\n",
       "      <td>0.000005</td>\n",
       "      <td>0.000260</td>\n",
       "    </tr>\n",
       "    <tr>\n",
       "      <th>3</th>\n",
       "      <td>4096</td>\n",
       "      <td>0.000287</td>\n",
       "      <td>0.000840</td>\n",
       "      <td>0.000008</td>\n",
       "      <td>0.000295</td>\n",
       "    </tr>\n",
       "    <tr>\n",
       "      <th>4</th>\n",
       "      <td>8192</td>\n",
       "      <td>0.000520</td>\n",
       "      <td>0.001556</td>\n",
       "      <td>0.000007</td>\n",
       "      <td>0.000527</td>\n",
       "    </tr>\n",
       "  </tbody>\n",
       "</table>\n",
       "</div>"
      ],
      "text/plain": [
       "   Array Length  Sort Time  Linear Search Time  Binary Search Time  \\\n",
       "0           512   0.000968            0.000150            0.000009   \n",
       "1          1024   0.000176            0.000202            0.000007   \n",
       "2          2048   0.000255            0.000420            0.000005   \n",
       "3          4096   0.000287            0.000840            0.000008   \n",
       "4          8192   0.000520            0.001556            0.000007   \n",
       "\n",
       "   Binary Search Time + Sort Time  \n",
       "0                        0.000977  \n",
       "1                        0.000183  \n",
       "2                        0.000260  \n",
       "3                        0.000295  \n",
       "4                        0.000527  "
      ]
     },
     "execution_count": 7,
     "metadata": {},
     "output_type": "execute_result"
    }
   ],
   "source": [
    "df = pd.DataFrame(time_list) #create a dataframe of the list of times\n",
    "df.columns = col_names\n",
    "df.head()"
   ]
  },
  {
   "cell_type": "code",
   "execution_count": 8,
   "id": "34aefeb3",
   "metadata": {},
   "outputs": [
    {
     "data": {
      "image/png": "[encoded data removed]",
      "text/plain": [
       "<Figure size 432x288 with 1 Axes>"
      ]
     },
     "metadata": {
      "needs_background": "light"
     },
     "output_type": "display_data"
    }
   ],
   "source": [
    "plt.plot(df['Array Length'], df['Linear Search Time'], label = 'Linear') #plot linear search times\n",
    "plt.plot(df['Array Length'], df['Binary Search Time'], label = 'Binary') #plot binary search times\n",
    "\n",
    "plt.title('Search Algorithm Performance')\n",
    "plt.xlabel('Array Length')\n",
    "plt.ylabel('Execution Time')\n",
    "plt.legend()\n",
    "\n",
    "plt.show()"
   ]
  },
  {
   "cell_type": "markdown",
   "id": "79ec50f3",
   "metadata": {},
   "source": [
    "The linear search algorithm searches for the number by checking each element one by one starting from the first element. On the other hand, the binary search algorithm searches for the number by continuously checking the middle element to narrow the list down by half the number of elements each time until the number is found. \n",
    "\n",
    "In a list of n elements, the linear search takes n steps to run the worst case in the length of a list, so it can be denoted as O(n). The linear search runs on linear time which can be seen in the table and graph above. In the graph, the linear search times steadily increases at the same rate or slope as the array length increases. From the table, it can be seen that, as the array length doubles, the linear search times also approximately doubles as well. \n",
    "\n",
    "The binary search takes log2 n steps to run the worst case, which is also denoted as O(log n). The binary search runs on logarithmic time. In the graph, the binary search times stay around the similar low execution times even when the array length increases. It can be seen in the table, the binary search time from a list of 1024 elements is actually faster than the search time for a list of 512 elements. As the the number of elements continue to increase, the search time for binary searches decreases. \n",
    "\n",
    "From both the table and graph, it is evident that the linear search times will always be slower than the binary search times for worst cases, especially when the load starts to increase. The binary search algorithm will be useful to data engineers when it comes to finding a specific number, item, user, etc. in a large list or database in the shortest time possible. It also accomodates for future growth in the load, so performance will not be compromised. "
   ]
  }
 ],
 "metadata": {
  "kernelspec": {
   "display_name": "Python 3",
   "language": "python",
   "name": "python3"
  },
  "language_info": {
   "codemirror_mode": {
    "name": "ipython",
    "version": 3
   },
   "file_extension": ".py",
   "mimetype": "text/x-python",
   "name": "python",
   "nbconvert_exporter": "python",
   "pygments_lexer": "ipython3",
   "version": "3.9.5"
  }
 },
 "nbformat": 4,
 "nbformat_minor": 5
}
