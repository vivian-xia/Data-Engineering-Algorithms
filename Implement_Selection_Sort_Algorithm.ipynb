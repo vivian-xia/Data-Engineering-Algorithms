{
 "cells": [
  {
   "cell_type": "markdown",
   "metadata": {},
   "source": [
    "#### Vivian Xia\n",
    "## Implement a Selection Sort Algorithm"
   ]
  },
  {
   "cell_type": "code",
   "execution_count": 1,
   "metadata": {},
   "outputs": [],
   "source": [
    "import pandas as pd\n",
    "import numpy as np\n",
    "import matplotlib.pyplot as plt\n",
    "import time\n",
    "import timeit\n",
    "\n",
    "from random import seed\n",
    "from random import random\n",
    "\n",
    "from tabulate import tabulate"
   ]
  },
  {
   "cell_type": "code",
   "execution_count": 2,
   "metadata": {},
   "outputs": [
    {
     "name": "stdout",
     "output_type": "stream",
     "text": [
      "[2, 3, 5, 6, 10]\n"
     ]
    }
   ],
   "source": [
    "# Finds the smallest value in an array\n",
    "def findSmallest(arr):\n",
    "    time.sleep(0.1) #suspend execution for 0.1 seconds to capture a better level of detail\n",
    "    \n",
    "    # Stores the smallest value\n",
    "    smallest = arr[0]\n",
    "    # Stores the index of the smallest value\n",
    "    smallest_index = 0\n",
    "    for i in range(1, len(arr)):\n",
    "        if arr[i] < smallest:\n",
    "            smallest_index = i\n",
    "            smallest = arr[i]      \n",
    "    return smallest_index\n",
    "\n",
    "# Sort array\n",
    "def selectionSort(arr):\n",
    "    newArr = []\n",
    "    for i in range(len(arr)):\n",
    "        # Finds the smallest element in the array and adds it to the new array\n",
    "        smallest = findSmallest(arr)\n",
    "        newArr.append(arr.pop(smallest))\n",
    "    return newArr\n",
    "\n",
    "print(selectionSort([5, 3, 6, 2, 10]))"
   ]
  },
  {
   "cell_type": "markdown",
   "metadata": {},
   "source": [
    "We will again generate random data for this assignment.  Please set up five data arrays of length 5,000, 10,000, 15,000, 20,000, and 25,000 of uniformly distributed random numbers (you may use either integers or floating point).  Ensure that a common random number seed is used to generate each of the arrays. Feel free to increase the length of the arrays if it will help you illustrate your results, but please keep the difference between them constant."
   ]
  },
  {
   "cell_type": "markdown",
   "metadata": {},
   "source": [
    "Execute the base algorithm (Selection Sort) for each of the random number arrays, noting the execution time with each execution. Use one of the timing methods we learned in class, but please make sure it is giving accurate enough results."
   ]
  },
  {
   "cell_type": "code",
   "execution_count": 3,
   "metadata": {},
   "outputs": [],
   "source": [
    "#generate list of random values and apply selection sort \n",
    "def sort_time(array_len):\n",
    "    \"\"\" Selection Sort Algorithm.\n",
    "    \n",
    "    Time the sort on a generated list of random float values.\n",
    "    \n",
    "    Parameters\n",
    "    ----------\n",
    "    array_len: length that is generated in the array.\n",
    "    \n",
    "    \"\"\"\n",
    "\n",
    "    np.random.seed(12345) #set random number seed\n",
    "    \n",
    "    start_time = time.perf_counter()\n",
    "    selectionSort(list(np.random.random(array_len))) #random float values between 0 and 1 and sort using algorithm\n",
    "    end_time = time.perf_counter()\n",
    "    sort_time = end_time - start_time #sorting time\n",
    "    \n",
    "    return array_len, sort_time"
   ]
  },
  {
   "cell_type": "code",
   "execution_count": 4,
   "metadata": {},
   "outputs": [],
   "source": [
    "length_array = [5000, 10000, 15000, 20000, 25000] #list of array lengths\n",
    "time_list = [] #empty list to store sorting times\n",
    "\n",
    "for length in length_array:\n",
    "    time_list.append(sort_time(length)) #use sort algorithm for each length and store in time_list"
   ]
  },
  {
   "cell_type": "code",
   "execution_count": 5,
   "metadata": {},
   "outputs": [
    {
     "name": "stdout",
     "output_type": "stream",
     "text": [
      "╒════════════════╤═════════════╕\n",
      "│   Array Length │   Sort Time │\n",
      "╞════════════════╪═════════════╡\n",
      "│           5000 │     521.563 │\n",
      "├────────────────┼─────────────┤\n",
      "│          10000 │    1059.57  │\n",
      "├────────────────┼─────────────┤\n",
      "│          15000 │    1609.33  │\n",
      "├────────────────┼─────────────┤\n",
      "│          20000 │    2143.38  │\n",
      "├────────────────┼─────────────┤\n",
      "│          25000 │    2695.43  │\n",
      "╘════════════════╧═════════════╛\n"
     ]
    }
   ],
   "source": [
    "col_names = [\"Array Length\",\"Sort Time\"]\n",
    "\n",
    "print(tabulate(time_list, headers=col_names, tablefmt=\"fancy_grid\"))"
   ]
  },
  {
   "cell_type": "code",
   "execution_count": 6,
   "metadata": {},
   "outputs": [
    {
     "data": {
      "text/html": [
       "<div>\n",
       "<style scoped>\n",
       "    .dataframe tbody tr th:only-of-type {\n",
       "        vertical-align: middle;\n",
       "    }\n",
       "\n",
       "    .dataframe tbody tr th {\n",
       "        vertical-align: top;\n",
       "    }\n",
       "\n",
       "    .dataframe thead th {\n",
       "        text-align: right;\n",
       "    }\n",
       "</style>\n",
       "<table border=\"1\" class=\"dataframe\">\n",
       "  <thead>\n",
       "    <tr style=\"text-align: right;\">\n",
       "      <th></th>\n",
       "      <th>Array Length</th>\n",
       "      <th>Sort Time</th>\n",
       "    </tr>\n",
       "  </thead>\n",
       "  <tbody>\n",
       "    <tr>\n",
       "      <th>0</th>\n",
       "      <td>5000</td>\n",
       "      <td>521.562766</td>\n",
       "    </tr>\n",
       "    <tr>\n",
       "      <th>1</th>\n",
       "      <td>10000</td>\n",
       "      <td>1059.574411</td>\n",
       "    </tr>\n",
       "    <tr>\n",
       "      <th>2</th>\n",
       "      <td>15000</td>\n",
       "      <td>1609.330239</td>\n",
       "    </tr>\n",
       "    <tr>\n",
       "      <th>3</th>\n",
       "      <td>20000</td>\n",
       "      <td>2143.375043</td>\n",
       "    </tr>\n",
       "    <tr>\n",
       "      <th>4</th>\n",
       "      <td>25000</td>\n",
       "      <td>2695.431213</td>\n",
       "    </tr>\n",
       "  </tbody>\n",
       "</table>\n",
       "</div>"
      ],
      "text/plain": [
       "   Array Length    Sort Time\n",
       "0          5000   521.562766\n",
       "1         10000  1059.574411\n",
       "2         15000  1609.330239\n",
       "3         20000  2143.375043\n",
       "4         25000  2695.431213"
      ]
     },
     "execution_count": 6,
     "metadata": {},
     "output_type": "execute_result"
    }
   ],
   "source": [
    "df = pd.DataFrame(time_list) #create a dataframe of the list of times\n",
    "df.columns = col_names\n",
    "df.head()"
   ]
  },
  {
   "cell_type": "code",
   "execution_count": 10,
   "metadata": {},
   "outputs": [
    {
     "data": {
      "image/png": "[encoded data removed]",
      "text/plain": [
       "<Figure size 432x288 with 1 Axes>"
      ]
     },
     "metadata": {
      "needs_background": "light"
     },
     "output_type": "display_data"
    }
   ],
   "source": [
    "plt.plot(df['Array Length'], df['Sort Time']) #plot selection sort times\n",
    "\n",
    "plt.title('Selection Sort Algorithm Performance')\n",
    "plt.xlabel('Array Length')\n",
    "plt.ylabel('Execution Time')\n",
    "\n",
    "plt.show()"
   ]
  },
  {
   "cell_type": "markdown",
   "metadata": {},
   "source": [
    "To apply the selection sort algorithm, a randomized list of float values needs to be first be generated. The number of randomized float values depends on the array length. The array lengths generated are 5000, 10000, 15000, 20000, and 25000 where each length is 5000 more than the previous. \n",
    "\n",
    "The selection sort function iterates through the generated list in sort the list from smallest to largest value. Each iteration includes taking an element and comparing it to the next element and the next until it can confirm that it is the smallest value in the list. If during the iteration, the value compares itself to another value, and the other value is greater then the other value is the new smallest value and continues down the list to compare itself to the other values. Once the iteration is done, the smallest value is appended to the new list of sorted values, resulting in O(n) time where n is the number of elements in the list. The sort algorithm has to go through that iteration n times, so it takes O(n^2) time. \n",
    "\n",
    "In the graph, it can be seen that as the array length increases, the execution time does not increase at the same rate. The graph curves up like a quadratic as the array length increases, showing that the execution time increases at an increased rate the larger the array length. This is also evident from the table. The list with 10000 items takes more than double the execution time as that of the list with 5000 items desppite it being double the number of items. Similarly, the list with 15000 elements has more than three times the run time as that of the list with 5000 items. This pattern continues to be true throughout the other array lengths, so the selection sort run time does not scale linearly. This makes it useful in applications because, as the load increases, the run time's rate will also increase so that performance will not be compromised."
   ]
  }
 ],
 "metadata": {
  "kernelspec": {
   "display_name": "Python 3",
   "language": "python",
   "name": "python3"
  },
  "language_info": {
   "codemirror_mode": {
    "name": "ipython",
    "version": 3
   },
   "file_extension": ".py",
   "mimetype": "text/x-python",
   "name": "python",
   "nbconvert_exporter": "python",
   "pygments_lexer": "ipython3",
   "version": "3.8.5"
  }
 },
 "nbformat": 4,
 "nbformat_minor": 4
}
