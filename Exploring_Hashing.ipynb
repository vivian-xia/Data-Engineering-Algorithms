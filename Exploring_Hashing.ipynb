{
  "cells": [
    {
      "cell_type": "markdown",
      "metadata": {
        "id": "GxBeAncTpVhC"
      },
      "source": [
        "#### Vivian Xia\n",
        "\n",
        "## Exploring Hashing"
      ]
    },
    {
      "cell_type": "code",
      "execution_count": null,
      "metadata": {
        "id": "YB9zK5Bj8jUo"
      },
      "outputs": [],
      "source": [
        "import pandas as pd\n",
        "import numpy as np\n",
        "import matplotlib.pyplot as plt\n",
        "import time\n",
        "import timeit\n",
        "\n",
        "import random\n",
        "from string import ascii_lowercase\n",
        "\n",
        "from tabulate import tabulate"
      ]
    },
    {
      "cell_type": "code",
      "execution_count": null,
      "metadata": {
        "id": "-LtbpikB8L78"
      },
      "outputs": [],
      "source": [
        "def linear_search(mylist, item):\n",
        "    \n",
        "    i = 0\n",
        "    while i < len(mylist):\n",
        "        if mylist[i] == item:\n",
        "            return i\n",
        "        else:\n",
        "            i = i + 1\n",
        "        \n",
        "    return None"
      ]
    },
    {
      "cell_type": "code",
      "execution_count": null,
      "metadata": {
        "id": "nZtLatq7-H_L"
      },
      "outputs": [],
      "source": [
        "#binary search algorithm\n",
        "class BinarySearch():\n",
        "\n",
        "  def search_iterative(self, list, item):\n",
        "    # low and high keep track of which part of the list you'll search in.\n",
        "    low = 0\n",
        "    high = len(list) - 1\n",
        "\n",
        "    # While you haven't narrowed it down to one element ...\n",
        "    while low <= high:\n",
        "      # ... check the middle element\n",
        "      mid = (low + high) // 2\n",
        "      guess = list[mid]\n",
        "      # Found the item.\n",
        "      if guess == item:\n",
        "        return mid\n",
        "      # The guess was too high.\n",
        "      if guess > item:\n",
        "        high = mid - 1\n",
        "      # The guess was too low.\n",
        "      else:\n",
        "        low = mid + 1\n",
        "\n",
        "    # Item doesn't exist\n",
        "    return None"
      ]
    },
    {
      "cell_type": "code",
      "execution_count": null,
      "metadata": {
        "id": "Z0yidE08-BwF"
      },
      "outputs": [],
      "source": [
        "def search_time(position):\n",
        "    \"\"\" Search Time Algorithm.\n",
        "\n",
        "    Time the search for values in an unsorted and sorted list and a set.\n",
        "    \n",
        "    Parameters\n",
        "    ----------\n",
        "    position: value to search.\n",
        "    \n",
        "    \"\"\"\n",
        "    \n",
        "    bs = BinarySearch()\n",
        "    \n",
        "    start_time = time.perf_counter()\n",
        "    linear_search(names_unsrt, position)\n",
        "    end_time = time.perf_counter()\n",
        "    unsrt_time = end_time - start_time #unsorted list search time\n",
        "    \n",
        "    start_time = time.perf_counter()\n",
        "    bs.search_iterative(names_srt, position) \n",
        "    end_time = time.perf_counter()\n",
        "    srt_time = end_time - start_time #sorted list search time\n",
        "        \n",
        "    start_time = time.perf_counter()\n",
        "    names_set.remove(position)\n",
        "    end_time = time.perf_counter()\n",
        "    set_time = end_time - start_time #set search time\n",
        "    \n",
        "    return position, unsrt_time, srt_time, set_time"
      ]
    },
    {
      "cell_type": "code",
      "execution_count": null,
      "metadata": {
        "id": "W7L9huqx7WaT"
      },
      "outputs": [],
      "source": [
        "#generate a random list of strings\n",
        "np.random.seed(45)\n",
        "list_string = []\n",
        "\n",
        "for string in range(100000): \n",
        "  string = ''.join(random.choice(ascii_lowercase) for i in range(10))\n",
        "  list_string.append(string)"
      ]
    },
    {
      "cell_type": "code",
      "execution_count": null,
      "metadata": {
        "id": "5iVUeTSi8Lw6"
      },
      "outputs": [],
      "source": [
        "#create an unsorted list, sorted list, and set of the generated list\n",
        "names_unsrt = list_string.copy()\n",
        "\n",
        "names_set = list_string.copy()\n",
        "names_set = set(names_set)\n",
        "\n",
        "names_srt = list_string.copy()\n",
        "names_srt = sorted(names_srt)"
      ]
    },
    {
      "cell_type": "code",
      "execution_count": null,
      "metadata": {
        "id": "qzwu76Sx8L2e"
      },
      "outputs": [],
      "source": [
        "#pick the names from the sorted array that are at 10,000th, 30,000th, 50,000th, 70,000th, 90,000th, and 100,000th positions\n",
        "position_10000 = names_srt[10000-1]\n",
        "position_30000 = names_srt[30000-1]\n",
        "position_50000 = names_srt[50000-1]\n",
        "position_70000 = names_srt[70000-1]\n",
        "position_90000 = names_srt[90000-1]\n",
        "position_100000 = names_srt[100000-1]"
      ]
    },
    {
      "cell_type": "code",
      "execution_count": null,
      "metadata": {
        "id": "Fr6dzzk--M-F"
      },
      "outputs": [],
      "source": [
        "#search for these six names in each of the collections\n",
        "position_list = [position_10000, position_30000, position_50000, position_70000, position_90000, position_100000]\n",
        "time_list = [] #empty list to store searching times\n",
        "\n",
        "for i in position_list:\n",
        "    time_list.append(search_time(i)) #use search time algorithm to time the search on each string"
      ]
    },
    {
      "cell_type": "code",
      "execution_count": null,
      "metadata": {
        "colab": {
          "base_uri": "https://localhost:8080/"
        },
        "id": "4_iSUp4b-NCH",
        "outputId": "43d58fd7-2cc8-420d-9870-158c8ad3a44a"
      },
      "outputs": [
        {
          "name": "stdout",
          "output_type": "stream",
          "text": [
            "╒════════════╤══════════════════════╤══════════════════════╤═════════════════════╕\n",
            "│ String     │   Linear Search Time │   Binary Search Time │   set.remove() Time │\n",
            "╞════════════╪══════════════════════╪══════════════════════╪═════════════════════╡\n",
            "│ cpvmacaxxg │           0.00275404 │           1.5834e-05 │           2.417e-06 │\n",
            "├────────────┼──────────────────────┼──────────────────────┼─────────────────────┤\n",
            "│ hvitqmfmau │           0.0129223  │           1.0834e-05 │           2.25e-06  │\n",
            "├────────────┼──────────────────────┼──────────────────────┼─────────────────────┤\n",
            "│ myuzsiaqix │           0.0138698  │           3.25e-06   │           1.75e-06  │\n",
            "├────────────┼──────────────────────┼──────────────────────┼─────────────────────┤\n",
            "│ sfrvzsqjjm │           0.0100495  │           1.1958e-05 │           2.042e-06 │\n",
            "├────────────┼──────────────────────┼──────────────────────┼─────────────────────┤\n",
            "│ xjukhkzmvg │           0.00923888 │           1.0042e-05 │           1.708e-06 │\n",
            "├────────────┼──────────────────────┼──────────────────────┼─────────────────────┤\n",
            "│ zzzycuxpov │           0.0077505  │           1.0792e-05 │           1.708e-06 │\n",
            "╘════════════╧══════════════════════╧══════════════════════╧═════════════════════╛\n"
          ]
        }
      ],
      "source": [
        "col_names = [\"String\",\"Linear Search Time\", \"Binary Search Time\", \"set.remove() Time\"]\n",
        "\n",
        "print(tabulate(time_list, headers=col_names, tablefmt=\"fancy_grid\"))"
      ]
    },
    {
      "cell_type": "code",
      "execution_count": null,
      "metadata": {
        "colab": {
          "base_uri": "https://localhost:8080/",
          "height": 206
        },
        "id": "ujtS_X1R-Byz",
        "outputId": "e201985f-fac4-4f4a-cf8c-2f09b10b4cd4"
      },
      "outputs": [
        {
          "data": {
            "text/html": [
              "<div>\n",
              "<style scoped>\n",
              "    .dataframe tbody tr th:only-of-type {\n",
              "        vertical-align: middle;\n",
              "    }\n",
              "\n",
              "    .dataframe tbody tr th {\n",
              "        vertical-align: top;\n",
              "    }\n",
              "\n",
              "    .dataframe thead th {\n",
              "        text-align: right;\n",
              "    }\n",
              "</style>\n",
              "<table border=\"1\" class=\"dataframe\">\n",
              "  <thead>\n",
              "    <tr style=\"text-align: right;\">\n",
              "      <th></th>\n",
              "      <th>String</th>\n",
              "      <th>Linear Search Time</th>\n",
              "      <th>Binary Search Time</th>\n",
              "      <th>set.remove() Time</th>\n",
              "    </tr>\n",
              "  </thead>\n",
              "  <tbody>\n",
              "    <tr>\n",
              "      <th>0</th>\n",
              "      <td>cpvmacaxxg</td>\n",
              "      <td>0.002754</td>\n",
              "      <td>0.000016</td>\n",
              "      <td>0.000002</td>\n",
              "    </tr>\n",
              "    <tr>\n",
              "      <th>1</th>\n",
              "      <td>hvitqmfmau</td>\n",
              "      <td>0.012922</td>\n",
              "      <td>0.000011</td>\n",
              "      <td>0.000002</td>\n",
              "    </tr>\n",
              "    <tr>\n",
              "      <th>2</th>\n",
              "      <td>myuzsiaqix</td>\n",
              "      <td>0.013870</td>\n",
              "      <td>0.000003</td>\n",
              "      <td>0.000002</td>\n",
              "    </tr>\n",
              "    <tr>\n",
              "      <th>3</th>\n",
              "      <td>sfrvzsqjjm</td>\n",
              "      <td>0.010050</td>\n",
              "      <td>0.000012</td>\n",
              "      <td>0.000002</td>\n",
              "    </tr>\n",
              "    <tr>\n",
              "      <th>4</th>\n",
              "      <td>xjukhkzmvg</td>\n",
              "      <td>0.009239</td>\n",
              "      <td>0.000010</td>\n",
              "      <td>0.000002</td>\n",
              "    </tr>\n",
              "  </tbody>\n",
              "</table>\n",
              "</div>"
            ],
            "text/plain": [
              "       String  Linear Search Time  Binary Search Time  set.remove() Time\n",
              "0  cpvmacaxxg            0.002754            0.000016           0.000002\n",
              "1  hvitqmfmau            0.012922            0.000011           0.000002\n",
              "2  myuzsiaqix            0.013870            0.000003           0.000002\n",
              "3  sfrvzsqjjm            0.010050            0.000012           0.000002\n",
              "4  xjukhkzmvg            0.009239            0.000010           0.000002"
            ]
          },
          "execution_count": 10,
          "metadata": {},
          "output_type": "execute_result"
        }
      ],
      "source": [
        "df = pd.DataFrame(time_list) #create a dataframe of the list of times\n",
        "df.columns = col_names\n",
        "df.head()"
      ]
    },
    {
      "cell_type": "code",
      "execution_count": null,
      "metadata": {
        "colab": {
          "base_uri": "https://localhost:8080/",
          "height": 295
        },
        "id": "L3WCPbF6-B1s",
        "outputId": "a561718e-532e-4df7-ffb0-b8f7cab9c3c2"
      },
      "outputs": [
        {
          "data": {
            "image/png": "[encoded data removed]",
            "text/plain": [
              "<Figure size 432x288 with 1 Axes>"
            ]
          },
          "metadata": {
            "needs_background": "light"
          },
          "output_type": "display_data"
        }
      ],
      "source": [
        "plt.plot(df['String'], df['Linear Search Time'], label = 'Linear') #plot linear search times\n",
        "plt.plot(df['String'], df['Binary Search Time'], label = 'Binary') #plot binary search times\n",
        "plt.plot(df['String'], df['set.remove() Time'], label = 'Set') #plot set.remove() times\n",
        "\n",
        "plt.title('Search Algorithm Performance')\n",
        "plt.xlabel('String')\n",
        "plt.ylabel('Execution Time')\n",
        "plt.legend()\n",
        "\n",
        "plt.show()"
      ]
    },
    {
      "cell_type": "markdown",
      "metadata": {
        "id": "2tBd6KAnpVhM"
      },
      "source": [
        "The linear search algorithm has a significantly slower time complexity than the binary search algorithm and set.remove() method. The plot's y-axis scale conforms to the larger execution times of the linear search, making it hard to observe the graphs between the binary search and set.remove() method. Another plot is created to visualize only the binary search and set.remove() method at a smaller y-axis scale. "
      ]
    },
    {
      "cell_type": "code",
      "execution_count": null,
      "metadata": {
        "id": "ZaOX9B5CpVhN",
        "outputId": "bf314e01-be86-4635-cc00-eca61509e631"
      },
      "outputs": [
        {
          "data": {
            "text/html": [
              "<div>\n",
              "<style scoped>\n",
              "    .dataframe tbody tr th:only-of-type {\n",
              "        vertical-align: middle;\n",
              "    }\n",
              "\n",
              "    .dataframe tbody tr th {\n",
              "        vertical-align: top;\n",
              "    }\n",
              "\n",
              "    .dataframe thead th {\n",
              "        text-align: right;\n",
              "    }\n",
              "</style>\n",
              "<table border=\"1\" class=\"dataframe\">\n",
              "  <thead>\n",
              "    <tr style=\"text-align: right;\">\n",
              "      <th></th>\n",
              "      <th>String</th>\n",
              "      <th>Linear Search Time</th>\n",
              "      <th>Binary Search Time</th>\n",
              "      <th>set.remove() Time</th>\n",
              "    </tr>\n",
              "  </thead>\n",
              "  <tbody>\n",
              "    <tr>\n",
              "      <th>0</th>\n",
              "      <td>cpvmacaxxg</td>\n",
              "      <td>0.002754</td>\n",
              "      <td>0.000016</td>\n",
              "      <td>0.000002</td>\n",
              "    </tr>\n",
              "    <tr>\n",
              "      <th>1</th>\n",
              "      <td>hvitqmfmau</td>\n",
              "      <td>0.012922</td>\n",
              "      <td>0.000011</td>\n",
              "      <td>0.000002</td>\n",
              "    </tr>\n",
              "    <tr>\n",
              "      <th>2</th>\n",
              "      <td>myuzsiaqix</td>\n",
              "      <td>0.013870</td>\n",
              "      <td>0.000003</td>\n",
              "      <td>0.000002</td>\n",
              "    </tr>\n",
              "    <tr>\n",
              "      <th>3</th>\n",
              "      <td>sfrvzsqjjm</td>\n",
              "      <td>0.010050</td>\n",
              "      <td>0.000012</td>\n",
              "      <td>0.000002</td>\n",
              "    </tr>\n",
              "    <tr>\n",
              "      <th>4</th>\n",
              "      <td>xjukhkzmvg</td>\n",
              "      <td>0.009239</td>\n",
              "      <td>0.000010</td>\n",
              "      <td>0.000002</td>\n",
              "    </tr>\n",
              "  </tbody>\n",
              "</table>\n",
              "</div>"
            ],
            "text/plain": [
              "       String  Linear Search Time  Binary Search Time  set.remove() Time\n",
              "0  cpvmacaxxg            0.002754            0.000016           0.000002\n",
              "1  hvitqmfmau            0.012922            0.000011           0.000002\n",
              "2  myuzsiaqix            0.013870            0.000003           0.000002\n",
              "3  sfrvzsqjjm            0.010050            0.000012           0.000002\n",
              "4  xjukhkzmvg            0.009239            0.000010           0.000002"
            ]
          },
          "execution_count": 12,
          "metadata": {},
          "output_type": "execute_result"
        }
      ],
      "source": [
        "df = pd.DataFrame(time_list) #create a dataframe of the list of times\n",
        "df.columns = col_names\n",
        "df.head()"
      ]
    },
    {
      "cell_type": "code",
      "execution_count": null,
      "metadata": {
        "id": "F6jRZdTL-B4C",
        "outputId": "31d741cc-52cb-4220-8d4a-2de242daa639"
      },
      "outputs": [
        {
          "data": {
            "image/png": "[encoded data removed]",
            "text/plain": [
              "<Figure size 432x288 with 1 Axes>"
            ]
          },
          "metadata": {
            "needs_background": "light"
          },
          "output_type": "display_data"
        }
      ],
      "source": [
        "plt.plot(df['String'], df['Binary Search Time'], label = 'Binary') #plot binary search times\n",
        "plt.plot(df['String'], df['set.remove() Time'], label = 'Set') #plot set.remove() times\n",
        "plt.title('Search Algorithm Performance')\n",
        "plt.xlabel('String')\n",
        "plt.ylabel('Execution Time')\n",
        "plt.legend()\n",
        "\n",
        "plt.show()"
      ]
    },
    {
      "cell_type": "markdown",
      "metadata": {
        "id": "FM_-zWQa8M9E"
      },
      "source": [
        "Three datasets are created including an unsorted list, sorted list, and a set with the same 100,000 strings. These ten character strings were randomly generated. The 10,000th, 30,000th, 50,000th, 70,000th, 90,000th, and 100,000th positions of the sorted array are then searched for by the two algorithms and method.\n",
        "\n",
        "The linear search algorithm on the unsorted list starts with its first element and iterates through each element one by one until it finds the target element. The binary search algorithm on the sorted list effectively narrows the list by half the possible elements each time it iterates through by continuously checking the middle element of the list. The set.remove() method is used to represent a hash table because it operates at the same time complexity as a hash table of O(1). With a hash table, there is no need to search for the element because the hash function will consistently map the key to the same value and different keys to its corresponding values. It will also only return valid keys, so they key needs to exist in the array to return a value for it. Dictionaries in Python are a type of hash table. \n",
        "\n",
        "Because hash tables do not need to search for the target, they can retrieve any value in the hash table in the same amount of time regardless of how big the hash table is. Therefore, the average and best case time complexity for hash tables is O(1) or constant time to search, insert, and delete any keys and values. This constant time can be seen by the plot with the binary search and set.remove() method execution times. The set graph stays around the same time execution no matter where the element was in the set. The worst case time complexity is O(n). But this will only be the case if there is a bad hash function that does not map the keys evently throughout the array. Bad hash functions result in collisions that can slow the hash table down. The worst case is if the hash function maps all the keys to the same slot each time, resulting in a very long linked list from that one slot. Then the hash function does need search the linked list for the target key in O(n) steps. With a good hash function and  low load factor to prevent collisions, the hash table will generally have the time complexity of O(1). \n",
        "\n",
        "Linear search has a time complexity of O(n), and binary search has a time complexity of O(log n). The linear search runs on linear time while the binary search runs on logarithmic time. In the first plot, the linear search graph consistently takes much longer to search for the target element in the unsorted list than the binary search and set.remove() method do in their corresponding list and set. The table also compares the times between the three different methods, and linear search always takes much longer to find the target element. In the second plot, the binary search takes longer to find the target element than the set.remove() method. The binary search is much faster than the linear search, but the set.remove() method finds the key even faster than binary search. The table also shows that the set.remove() has faster execution times than both binary and linear search for every target string no matter the position. \n",
        "\n",
        "For the third string searched in the 50,000th position of the sorted list, the binary search takes a smaller amount of time to find the element as it is in the middle of the string, so it would be the first element this search would check. Then binary search takes longer at the 10,000th position and 100,000th position strings since they are further from the middle elements of each iteration. Binary search varies in its time execution depending on where the element is in the list, but set.remove() method stays consistent and retrieves each key in the same amount of time regardless of where it is located in the set as shown by its straight and constant graph. \n",
        "\n",
        "Because hash tables return values so efficiently, data engineers use it for many applications such as lookups, preventing duplicate entries, and as a cache. As the load increases, binary search is a great scalable algorithm to accomodate the growth, but hash tables with a good hash function will still be more efficient. This is why many companies implement caching to not have to rerun certain same requests and pages that many people often refer to. Instead, the page and its data is stored in the hash table, so it can be efficiently pulled up instead of having to be loaded the same page each time for users. And because the hash function has constant time, the increase in load will not affect the hash function and its ability to retrieve keys in the same amount of time as before the increase, maintaining performance. "
      ]
    }
  ],
  "metadata": {
    "colab": {
      "collapsed_sections": [],
      "name": "Assignment_5_Exploring_Hashing.ipynb",
      "provenance": []
    },
    "kernelspec": {
      "display_name": "Python 3",
      "language": "python",
      "name": "python3"
    },
    "language_info": {
      "codemirror_mode": {
        "name": "ipython",
        "version": 3
      },
      "file_extension": ".py",
      "mimetype": "text/x-python",
      "name": "python",
      "nbconvert_exporter": "python",
      "pygments_lexer": "ipython3",
      "version": "3.8.5"
    }
  },
  "nbformat": 4,
  "nbformat_minor": 0
}
