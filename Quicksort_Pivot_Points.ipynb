{
  "nbformat": 4,
  "nbformat_minor": 0,
  "metadata": {
    "colab": {
      "name": "Assignment 4 Quicksort Pivot Points.ipynb",
      "provenance": [],
      "collapsed_sections": [],
      "authorship_tag": "ABX9TyMOzyL06fACfVezr4OQVC0z"
    },
    "kernelspec": {
      "name": "python3",
      "display_name": "Python 3"
    },
    "language_info": {
      "name": "python"
    }
  },
  "cells": [
    {
      "cell_type": "markdown",
      "source": [
        "#### Vivian Xia\n",
        "\n",
        "##Compare Different Quicksort Pivot Points\n",
        "\n",
        "Illustrate the effects of choosing different pivot points for Quicksort on sorted and unsorted lists of increasing length.  Create a table of results and a set of plots to illustrate your findings.\n"
      ],
      "metadata": {
        "id": "2DIIGKALaCx4"
      }
    },
    {
      "cell_type": "code",
      "source": [
        "import pandas as pd\n",
        "import numpy as np\n",
        "import matplotlib.pyplot as plt\n",
        "import time\n",
        "import timeit\n",
        "\n",
        "import random\n",
        "from string import ascii_letters\n",
        "\n",
        "from tabulate import tabulate"
      ],
      "metadata": {
        "id": "effPqvCjaCMq"
      },
      "execution_count": null,
      "outputs": []
    },
    {
      "cell_type": "code",
      "source": [
        "import sys\n",
        "sys.setrecursionlimit(25000)"
      ],
      "metadata": {
        "id": "6x6pu2Q0KW6e"
      },
      "execution_count": null,
      "outputs": []
    },
    {
      "cell_type": "code",
      "execution_count": null,
      "metadata": {
        "id": "CN0o-QwFZ6CP"
      },
      "outputs": [],
      "source": [
        "def quicksort(array):\n",
        "    \n",
        "  print(\"Sorting array: {0}\".format(array))  \n",
        "    \n",
        "  if len(array) < 2:\n",
        "    # base case, arrays with 0 or 1 element are already \"sorted\"\n",
        "    return array\n",
        "  else:\n",
        "    # recursive case\n",
        "    pivot = array[0]\n",
        "    # sub-array of all the elements less than the pivot\n",
        "    less = [i for i in array[1:] if i <= pivot]\n",
        "    # sub-array of all the elements greater than the pivot\n",
        "    greater = [i for i in array[1:] if i > pivot]\n",
        "    \n",
        "    print(\"{0} <{1}> {2}\".format(less, pivot, greater))\n",
        "    \n",
        "    return quicksort(less) + [pivot] + quicksort(greater)\n"
      ]
    },
    {
      "cell_type": "code",
      "source": [
        "def sort_times(list_string):\n",
        "\n",
        "  start_time = time.perf_counter()\n",
        "  quicksort(list_string)\n",
        "  end_time = time.perf_counter()\n",
        "  quicksort_time = end_time - start_time\n",
        "\n",
        "  return quicksort_time"
      ],
      "metadata": {
        "id": "xzQ9cUKihgUR"
      },
      "execution_count": null,
      "outputs": []
    },
    {
      "cell_type": "markdown",
      "source": [
        "###Illustrate with simpler array to see the step-by-step.\n",
        "\n",
        "Because the algorithm takes the first element of the array as its pivot, I generated a random list of 10 integers. "
      ],
      "metadata": {
        "id": "47LsRZQRaSof"
      }
    },
    {
      "cell_type": "code",
      "source": [
        "np.random.seed(22)\n",
        "list_int = np.random.randint(1,100,10)\n",
        "list_int"
      ],
      "metadata": {
        "colab": {
          "base_uri": "https://localhost:8080/"
        },
        "id": "_0TvduCHbO9D",
        "outputId": "f6d480aa-ba54-4896-8bf7-79c65f6ec0a3"
      },
      "execution_count": null,
      "outputs": [
        {
          "output_type": "execute_result",
          "data": {
            "text/plain": [
              "array([ 5, 45, 65, 85,  9, 96, 94, 19, 15, 46])"
            ]
          },
          "metadata": {},
          "execution_count": 33
        }
      ]
    },
    {
      "cell_type": "markdown",
      "source": [
        "####Worst Case\n",
        "\n",
        "The list is sorted to illustrate the worst case scenario.  "
      ],
      "metadata": {
        "id": "feaZKo_y9y7a"
      }
    },
    {
      "cell_type": "code",
      "source": [
        "#one worst case\n",
        "worst_case = list_int.copy()\n",
        "worst_case = sorted(worst_case, reverse=True)\n",
        "\n",
        "worst_time = quicksort(worst_case)\n",
        "worst_time"
      ],
      "metadata": {
        "colab": {
          "base_uri": "https://localhost:8080/"
        },
        "id": "hJO4HUQtaH4q",
        "outputId": "d23f5e3f-da5e-4f23-de14-de489e87e8d1"
      },
      "execution_count": null,
      "outputs": [
        {
          "output_type": "stream",
          "name": "stdout",
          "text": [
            "Sorting array: [96, 94, 85, 65, 46, 45, 19, 15, 9, 5]\n",
            "[94, 85, 65, 46, 45, 19, 15, 9, 5] <96> []\n",
            "Sorting array: [94, 85, 65, 46, 45, 19, 15, 9, 5]\n",
            "[85, 65, 46, 45, 19, 15, 9, 5] <94> []\n",
            "Sorting array: [85, 65, 46, 45, 19, 15, 9, 5]\n",
            "[65, 46, 45, 19, 15, 9, 5] <85> []\n",
            "Sorting array: [65, 46, 45, 19, 15, 9, 5]\n",
            "[46, 45, 19, 15, 9, 5] <65> []\n",
            "Sorting array: [46, 45, 19, 15, 9, 5]\n",
            "[45, 19, 15, 9, 5] <46> []\n",
            "Sorting array: [45, 19, 15, 9, 5]\n",
            "[19, 15, 9, 5] <45> []\n",
            "Sorting array: [19, 15, 9, 5]\n",
            "[15, 9, 5] <19> []\n",
            "Sorting array: [15, 9, 5]\n",
            "[9, 5] <15> []\n",
            "Sorting array: [9, 5]\n",
            "[5] <9> []\n",
            "Sorting array: [5]\n",
            "Sorting array: []\n",
            "Sorting array: []\n",
            "Sorting array: []\n",
            "Sorting array: []\n",
            "Sorting array: []\n",
            "Sorting array: []\n",
            "Sorting array: []\n",
            "Sorting array: []\n",
            "Sorting array: []\n"
          ]
        },
        {
          "output_type": "execute_result",
          "data": {
            "text/plain": [
              "[5, 9, 15, 19, 45, 46, 65, 85, 94, 96]"
            ]
          },
          "metadata": {},
          "execution_count": 34
        }
      ]
    },
    {
      "cell_type": "markdown",
      "source": [
        "The worst cases are when the pivot is the smallest or largest value in the list. In this case, the pivot is the largest value. The resulting partition has one sub-array with the remaining 9 elements while the other sub-array has no elements. Because the list is already sorted, as the sub-array gets partitioned again, it takes the largest value as the pivot, resulting in one empty sub-array and one with 8 elements. This dividing continues until there is zero or one element in each of the sub-arrays. \n",
        "\n",
        "This quicksort has a total height of 10 since the algorithm had to go through 10 iterations. Each level takes O(n) time, so the worst case takes O(n*n) or O(n^2) to complete. "
      ],
      "metadata": {
        "id": "s8N883M2-_CW"
      }
    },
    {
      "cell_type": "code",
      "source": [
        "#another worst case\n",
        "worst_case = list_int.copy()\n",
        "worst_case = sorted(worst_case)\n",
        "\n",
        "worst_time = quicksort(worst_case)\n",
        "worst_time"
      ],
      "metadata": {
        "colab": {
          "base_uri": "https://localhost:8080/"
        },
        "id": "mykUkPSrlmSq",
        "outputId": "d1b6859c-c53d-43bb-d570-8281ed2cdac6"
      },
      "execution_count": null,
      "outputs": [
        {
          "output_type": "stream",
          "name": "stdout",
          "text": [
            "Sorting array: [5, 9, 15, 19, 45, 46, 65, 85, 94, 96]\n",
            "[] <5> [9, 15, 19, 45, 46, 65, 85, 94, 96]\n",
            "Sorting array: []\n",
            "Sorting array: [9, 15, 19, 45, 46, 65, 85, 94, 96]\n",
            "[] <9> [15, 19, 45, 46, 65, 85, 94, 96]\n",
            "Sorting array: []\n",
            "Sorting array: [15, 19, 45, 46, 65, 85, 94, 96]\n",
            "[] <15> [19, 45, 46, 65, 85, 94, 96]\n",
            "Sorting array: []\n",
            "Sorting array: [19, 45, 46, 65, 85, 94, 96]\n",
            "[] <19> [45, 46, 65, 85, 94, 96]\n",
            "Sorting array: []\n",
            "Sorting array: [45, 46, 65, 85, 94, 96]\n",
            "[] <45> [46, 65, 85, 94, 96]\n",
            "Sorting array: []\n",
            "Sorting array: [46, 65, 85, 94, 96]\n",
            "[] <46> [65, 85, 94, 96]\n",
            "Sorting array: []\n",
            "Sorting array: [65, 85, 94, 96]\n",
            "[] <65> [85, 94, 96]\n",
            "Sorting array: []\n",
            "Sorting array: [85, 94, 96]\n",
            "[] <85> [94, 96]\n",
            "Sorting array: []\n",
            "Sorting array: [94, 96]\n",
            "[] <94> [96]\n",
            "Sorting array: []\n",
            "Sorting array: [96]\n"
          ]
        },
        {
          "output_type": "execute_result",
          "data": {
            "text/plain": [
              "[5, 9, 15, 19, 45, 46, 65, 85, 94, 96]"
            ]
          },
          "metadata": {},
          "execution_count": 35
        }
      ]
    },
    {
      "cell_type": "markdown",
      "source": [
        "Similarly, this example is also a worse case because the pivot is always the smallest value in the array and sub-array. This also results in 10 levels, so the time complexitiy is O(n^2) as well."
      ],
      "metadata": {
        "id": "WBq50UBBF2kz"
      }
    },
    {
      "cell_type": "markdown",
      "source": [
        "#### Best Case\n",
        "\n",
        "The best case occurs when the pivot is the middle element each time. For this example, I fixed the first element to be 50, a value in the middle of the range of possible values. "
      ],
      "metadata": {
        "id": "PxcIAYry-N2Z"
      }
    },
    {
      "cell_type": "code",
      "source": [
        "#best case\n",
        "best_case = list_int.copy() \n",
        "best_case[0] = 50 \n",
        "\n",
        "best_time = quicksort(best_case)\n",
        "best_time"
      ],
      "metadata": {
        "colab": {
          "base_uri": "https://localhost:8080/"
        },
        "id": "N_rFR4v-bt1o",
        "outputId": "6f233d93-a51b-40b4-ccd8-ea89781f4c57"
      },
      "execution_count": null,
      "outputs": [
        {
          "output_type": "stream",
          "name": "stdout",
          "text": [
            "Sorting array: [50 45 65 85  9 96 94 19 15 46]\n",
            "[45, 9, 19, 15, 46] <50> [65, 85, 96, 94]\n",
            "Sorting array: [45, 9, 19, 15, 46]\n",
            "[9, 19, 15] <45> [46]\n",
            "Sorting array: [9, 19, 15]\n",
            "[] <9> [19, 15]\n",
            "Sorting array: []\n",
            "Sorting array: [19, 15]\n",
            "[15] <19> []\n",
            "Sorting array: [15]\n",
            "Sorting array: []\n",
            "Sorting array: [46]\n",
            "Sorting array: [65, 85, 96, 94]\n",
            "[] <65> [85, 96, 94]\n",
            "Sorting array: []\n",
            "Sorting array: [85, 96, 94]\n",
            "[] <85> [96, 94]\n",
            "Sorting array: []\n",
            "Sorting array: [96, 94]\n",
            "[94] <96> []\n",
            "Sorting array: [94]\n",
            "Sorting array: []\n"
          ]
        },
        {
          "output_type": "execute_result",
          "data": {
            "text/plain": [
              "[9, 15, 19, 45, 46, 50, 65, 85, 94, 96]"
            ]
          },
          "metadata": {},
          "execution_count": 37
        }
      ]
    },
    {
      "cell_type": "markdown",
      "source": [
        "Because the value 50 was picked as the pivot, the array divided into sub-arrays of an equal number of elements. There are five elements in the first sub-array and four in the second sub-array. \n",
        "\n",
        "This example is not the best of the best cases since the middle value is not continously picked as the pivot each time. But this example does show that by picking a value that is not the smallest or largest as the pivot will result in a smaller call stack. The base case for each sub-array is reached in less steps, thus the stack size for best case and average case scenarios such as this one is O(log n). It takes O(n) to run each level so the time complexitiy for these cases are O(n log n). \n"
      ],
      "metadata": {
        "id": "kFNLCyUcG8KO"
      }
    },
    {
      "cell_type": "markdown",
      "source": [
        "### Compare cases with increasing list lengths."
      ],
      "metadata": {
        "id": "EKAaW3mriCob"
      }
    },
    {
      "cell_type": "code",
      "source": [
        "#commented out the prints from this quicksort algorithm\n",
        "def quicksort(array):\n",
        "    \n",
        "  #print(\"Sorting array: {0}\".format(array))  \n",
        "    \n",
        "  if len(array) < 2:\n",
        "    # base case, arrays with 0 or 1 element are already \"sorted\"\n",
        "    return array\n",
        "  else:\n",
        "    # recursive case\n",
        "    pivot = array[0]\n",
        "    # sub-array of all the elements less than the pivot\n",
        "    less = [i for i in array[1:] if i <= pivot]\n",
        "    # sub-array of all the elements greater than the pivot\n",
        "    greater = [i for i in array[1:] if i > pivot]\n",
        "    \n",
        "    #print(\"{0} <{1}> {2}\".format(less, pivot, greater))\n",
        "    \n",
        "    return quicksort(less) + [pivot] + quicksort(greater)\n"
      ],
      "metadata": {
        "id": "2yJu-cxAik97"
      },
      "execution_count": null,
      "outputs": []
    },
    {
      "cell_type": "code",
      "source": [
        "time_list = []\n",
        "\n",
        "def times(len):\n",
        "  np.random.seed(111)\n",
        "  list_int = np.random.randint(1,10000,len)\n",
        "\n",
        "  #worst case\n",
        "  worst_case = list_int.copy()\n",
        "  worst_case = sorted(worst_case)\n",
        "  worst_time = sort_times(worst_case)\n",
        "\n",
        "  #best case\n",
        "  best_case = list_int.copy()\n",
        "  best_case[0] = 5000\n",
        "  best_time = sort_times(best_case)\n",
        "\n",
        "  return len, worst_time, best_time"
      ],
      "metadata": {
        "id": "BUZO-gobN3uI"
      },
      "execution_count": null,
      "outputs": []
    },
    {
      "cell_type": "code",
      "source": [
        "time_list.append(times(500))\n",
        "time_list.append(times(1000))\n",
        "time_list.append(times(1500))\n",
        "time_list.append(times(2000))\n",
        "time_list.append(times(2500))"
      ],
      "metadata": {
        "id": "ktC-nufOkpnH"
      },
      "execution_count": null,
      "outputs": []
    },
    {
      "cell_type": "code",
      "source": [
        "time_list"
      ],
      "metadata": {
        "colab": {
          "base_uri": "https://localhost:8080/"
        },
        "id": "vxPFhWnviCY5",
        "outputId": "bd07d578-2fed-499e-e0c6-771e1ab30b06"
      },
      "execution_count": null,
      "outputs": [
        {
          "output_type": "execute_result",
          "data": {
            "text/plain": [
              "[(500, 0.029783760001009796, 0.00222873900020204),\n",
              " (1000, 0.06752762100040854, 0.002704156000618241),\n",
              " (1500, 0.17157475799831445, 0.004234006000842783),\n",
              " (2000, 0.2742077379989496, 0.005715727000279003),\n",
              " (2500, 0.4161106400006247, 0.0217576459999691)]"
            ]
          },
          "metadata": {},
          "execution_count": 61
        }
      ]
    },
    {
      "cell_type": "code",
      "source": [
        "col_names = [\"Array Length\",\"Worse Case\", \"Best Case\"]\n",
        "\n",
        "print(tabulate(time_list, headers=col_names, tablefmt=\"fancy_grid\"))"
      ],
      "metadata": {
        "colab": {
          "base_uri": "https://localhost:8080/"
        },
        "id": "QT6lhpCrig6d",
        "outputId": "6b3ea285-76eb-48a0-bc28-fec30d67d683"
      },
      "execution_count": null,
      "outputs": [
        {
          "output_type": "stream",
          "name": "stdout",
          "text": [
            "╒════════════════╤══════════════╤═════════════╕\n",
            "│   Array Length │   Worse Case │   Best Case │\n",
            "╞════════════════╪══════════════╪═════════════╡\n",
            "│            500 │    0.0297838 │  0.00222874 │\n",
            "├────────────────┼──────────────┼─────────────┤\n",
            "│           1000 │    0.0675276 │  0.00270416 │\n",
            "├────────────────┼──────────────┼─────────────┤\n",
            "│           1500 │    0.171575  │  0.00423401 │\n",
            "├────────────────┼──────────────┼─────────────┤\n",
            "│           2000 │    0.274208  │  0.00571573 │\n",
            "├────────────────┼──────────────┼─────────────┤\n",
            "│           2500 │    0.416111  │  0.0217576  │\n",
            "╘════════════════╧══════════════╧═════════════╛\n"
          ]
        }
      ]
    },
    {
      "cell_type": "code",
      "source": [
        "df = pd.DataFrame(time_list) #create a dataframe of the list of times\n",
        "df.columns = col_names\n",
        "df.head()"
      ],
      "metadata": {
        "colab": {
          "base_uri": "https://localhost:8080/",
          "height": 206
        },
        "id": "XY97UmfqlN3x",
        "outputId": "fe9491c1-1017-4f0f-d5cb-37f6810f9523"
      },
      "execution_count": null,
      "outputs": [
        {
          "output_type": "execute_result",
          "data": {
            "text/html": [
              "\n",
              "  <div id=\"df-bc0ccb96-ac6c-46a2-af44-833f5e6ed970\">\n",
              "    <div class=\"colab-df-container\">\n",
              "      <div>\n",
              "<style scoped>\n",
              "    .dataframe tbody tr th:only-of-type {\n",
              "        vertical-align: middle;\n",
              "    }\n",
              "\n",
              "    .dataframe tbody tr th {\n",
              "        vertical-align: top;\n",
              "    }\n",
              "\n",
              "    .dataframe thead th {\n",
              "        text-align: right;\n",
              "    }\n",
              "</style>\n",
              "<table border=\"1\" class=\"dataframe\">\n",
              "  <thead>\n",
              "    <tr style=\"text-align: right;\">\n",
              "      <th></th>\n",
              "      <th>Array Length</th>\n",
              "      <th>Worse Case</th>\n",
              "      <th>Best Case</th>\n",
              "    </tr>\n",
              "  </thead>\n",
              "  <tbody>\n",
              "    <tr>\n",
              "      <th>0</th>\n",
              "      <td>500</td>\n",
              "      <td>0.029784</td>\n",
              "      <td>0.002229</td>\n",
              "    </tr>\n",
              "    <tr>\n",
              "      <th>1</th>\n",
              "      <td>1000</td>\n",
              "      <td>0.067528</td>\n",
              "      <td>0.002704</td>\n",
              "    </tr>\n",
              "    <tr>\n",
              "      <th>2</th>\n",
              "      <td>1500</td>\n",
              "      <td>0.171575</td>\n",
              "      <td>0.004234</td>\n",
              "    </tr>\n",
              "    <tr>\n",
              "      <th>3</th>\n",
              "      <td>2000</td>\n",
              "      <td>0.274208</td>\n",
              "      <td>0.005716</td>\n",
              "    </tr>\n",
              "    <tr>\n",
              "      <th>4</th>\n",
              "      <td>2500</td>\n",
              "      <td>0.416111</td>\n",
              "      <td>0.021758</td>\n",
              "    </tr>\n",
              "  </tbody>\n",
              "</table>\n",
              "</div>\n",
              "      <button class=\"colab-df-convert\" onclick=\"convertToInteractive('df-bc0ccb96-ac6c-46a2-af44-833f5e6ed970')\"\n",
              "              title=\"Convert this dataframe to an interactive table.\"\n",
              "              style=\"display:none;\">\n",
              "        \n",
              "  <svg xmlns=\"http://www.w3.org/2000/svg\" height=\"24px\"viewBox=\"0 0 24 24\"\n",
              "       width=\"24px\">\n",
              "    <path d=\"M0 0h24v24H0V0z\" fill=\"none\"/>\n",
              "    <path d=\"M18.56 5.44l.94 2.06.94-2.06 2.06-.94-2.06-.94-.94-2.06-.94 2.06-2.06.94zm-11 1L8.5 8.5l.94-2.06 2.06-.94-2.06-.94L8.5 2.5l-.94 2.06-2.06.94zm10 10l.94 2.06.94-2.06 2.06-.94-2.06-.94-.94-2.06-.94 2.06-2.06.94z\"/><path d=\"M17.41 7.96l-1.37-1.37c-.4-.4-.92-.59-1.43-.59-.52 0-1.04.2-1.43.59L10.3 9.45l-7.72 7.72c-.78.78-.78 2.05 0 2.83L4 21.41c.39.39.9.59 1.41.59.51 0 1.02-.2 1.41-.59l7.78-7.78 2.81-2.81c.8-.78.8-2.07 0-2.86zM5.41 20L4 18.59l7.72-7.72 1.47 1.35L5.41 20z\"/>\n",
              "  </svg>\n",
              "      </button>\n",
              "      \n",
              "  <style>\n",
              "    .colab-df-container {\n",
              "      display:flex;\n",
              "      flex-wrap:wrap;\n",
              "      gap: 12px;\n",
              "    }\n",
              "\n",
              "    .colab-df-convert {\n",
              "      background-color: #E8F0FE;\n",
              "      border: none;\n",
              "      border-radius: 50%;\n",
              "      cursor: pointer;\n",
              "      display: none;\n",
              "      fill: #1967D2;\n",
              "      height: 32px;\n",
              "      padding: 0 0 0 0;\n",
              "      width: 32px;\n",
              "    }\n",
              "\n",
              "    .colab-df-convert:hover {\n",
              "      background-color: #E2EBFA;\n",
              "      box-shadow: 0px 1px 2px rgba(60, 64, 67, 0.3), 0px 1px 3px 1px rgba(60, 64, 67, 0.15);\n",
              "      fill: #174EA6;\n",
              "    }\n",
              "\n",
              "    [theme=dark] .colab-df-convert {\n",
              "      background-color: #3B4455;\n",
              "      fill: #D2E3FC;\n",
              "    }\n",
              "\n",
              "    [theme=dark] .colab-df-convert:hover {\n",
              "      background-color: #434B5C;\n",
              "      box-shadow: 0px 1px 3px 1px rgba(0, 0, 0, 0.15);\n",
              "      filter: drop-shadow(0px 1px 2px rgba(0, 0, 0, 0.3));\n",
              "      fill: #FFFFFF;\n",
              "    }\n",
              "  </style>\n",
              "\n",
              "      <script>\n",
              "        const buttonEl =\n",
              "          document.querySelector('#df-bc0ccb96-ac6c-46a2-af44-833f5e6ed970 button.colab-df-convert');\n",
              "        buttonEl.style.display =\n",
              "          google.colab.kernel.accessAllowed ? 'block' : 'none';\n",
              "\n",
              "        async function convertToInteractive(key) {\n",
              "          const element = document.querySelector('#df-bc0ccb96-ac6c-46a2-af44-833f5e6ed970');\n",
              "          const dataTable =\n",
              "            await google.colab.kernel.invokeFunction('convertToInteractive',\n",
              "                                                     [key], {});\n",
              "          if (!dataTable) return;\n",
              "\n",
              "          const docLinkHtml = 'Like what you see? Visit the ' +\n",
              "            '<a target=\"_blank\" href=https://colab.research.google.com/notebooks/data_table.ipynb>data table notebook</a>'\n",
              "            + ' to learn more about interactive tables.';\n",
              "          element.innerHTML = '';\n",
              "          dataTable['output_type'] = 'display_data';\n",
              "          await google.colab.output.renderOutput(dataTable, element);\n",
              "          const docLink = document.createElement('div');\n",
              "          docLink.innerHTML = docLinkHtml;\n",
              "          element.appendChild(docLink);\n",
              "        }\n",
              "      </script>\n",
              "    </div>\n",
              "  </div>\n",
              "  "
            ],
            "text/plain": [
              "   Array Length  Worse Case  Best Case\n",
              "0           500    0.029784   0.002229\n",
              "1          1000    0.067528   0.002704\n",
              "2          1500    0.171575   0.004234\n",
              "3          2000    0.274208   0.005716\n",
              "4          2500    0.416111   0.021758"
            ]
          },
          "metadata": {},
          "execution_count": 63
        }
      ]
    },
    {
      "cell_type": "code",
      "source": [
        "plt.plot(df['Array Length'], df['Worse Case'], label = 'Worse Case')\n",
        "plt.plot(df['Array Length'], df['Best Case'], label = 'Best Case')\n",
        "\n",
        "plt.title('Quicksort Algorithm Pivot Point Performance')\n",
        "plt.xlabel('Array Length')\n",
        "plt.ylabel('Execution Time')\n",
        "plt.legend()\n",
        "\n",
        "plt.show()"
      ],
      "metadata": {
        "colab": {
          "base_uri": "https://localhost:8080/",
          "height": 295
        },
        "id": "yWEVKyItlPQD",
        "outputId": "35cca458-f5f5-459e-bffb-a5aba1e8b172"
      },
      "execution_count": null,
      "outputs": [
        {
          "output_type": "display_data",
          "data": {
            "image/png": "[encoded data removed]",
            "text/plain": [
              "<Figure size 432x288 with 1 Axes>"
            ]
          },
          "metadata": {
            "needs_background": "light"
          }
        }
      ]
    },
    {
      "cell_type": "markdown",
      "source": [
        "The worst case picked the smallest value as the pivot each time, resulting in O(n^2) time to complete as seen in the graph. The graph curves up like a quadratic, showing that its rate in completing the sort increases as the array length increases. The table also shows that the worst case for quicksort does not scale well. \n",
        "\n",
        "Fortunately, the average or best case takes on the time complexity of O(n log n). The graph for the best case does not show that the run time rate increases as drastically as the array length increases. As the table shows, the execution time increases at a much smaller rate than the worst case, so it is able to scale well as the load increases. "
      ],
      "metadata": {
        "id": "q5IHOdtE8zFV"
      }
    }
  ]
}
