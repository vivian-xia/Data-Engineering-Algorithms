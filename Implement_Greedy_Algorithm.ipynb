{
  "nbformat": 4,
  "nbformat_minor": 0,
  "metadata": {
    "colab": {
      "name": "Assignment 8 Implement a Greedy Algorithm.ipynb",
      "provenance": [],
      "collapsed_sections": [],
      "authorship_tag": "ABX9TyOzBlQU5D0Jw03bBwrKSGz6"
    },
    "kernelspec": {
      "name": "python3",
      "display_name": "Python 3"
    },
    "language_info": {
      "name": "python"
    }
  },
  "cells": [
    {
      "cell_type": "markdown",
      "source": [
        "#### Vivian Xia\n",
        "\n",
        "## Implement a Greedy Algorithm"
      ],
      "metadata": {
        "id": "9KClG4iO363d"
      }
    },
    {
      "cell_type": "markdown",
      "source": [
        "Assume you run a small security company that provides physical security services in the area and you recently won a new contract to provide 24x7 security for a small building under construction.  You have 6 security guards available at the moment who you can assign to this building, but your goal is to make more money out of this contract and spend less in wages (hence the algorithms is greedy!) "
      ],
      "metadata": {
        "id": "uzw2UrFh-KTx"
      }
    },
    {
      "cell_type": "markdown",
      "source": [
        "The cost/wage structure is as follows\n",
        "\n",
        "- People working less than or equal to 8 hours in a single day will be paid $15/hr\n",
        "\n",
        "- Anyone working overtime (>8 hours in a single day) will be paid $20/hr\n"
      ],
      "metadata": {
        "id": "pCSTE8-E-PTb"
      }
    },
    {
      "cell_type": "markdown",
      "source": [
        "### Design a solution for the case of a single day contract (only 24 hours)."
      ],
      "metadata": {
        "id": "1Zfth88-A8HN"
      }
    },
    {
      "cell_type": "code",
      "source": [
        "guards = {}\n",
        "guards[\"guard\"] = [\"guard_1\", \"guard_2\", \"guard_3\",\"guard_4\", \"guard_5\", \"guard_6\"]"
      ],
      "metadata": {
        "id": "iOhYSQ_qGkk_"
      },
      "execution_count": null,
      "outputs": []
    },
    {
      "cell_type": "markdown",
      "source": [
        "A hash table/ dictionary was used to represent the graph"
      ],
      "metadata": {
        "id": "ZUvfxQbrBbAf"
      }
    },
    {
      "cell_type": "code",
      "source": [
        "def shift_assignment(employees, available_shifts):\n",
        "  \"\"\" Shift Assignment Algorithm.\n",
        "\n",
        "  Assign shifts that minimize the wage expense.\n",
        "  \n",
        "  Parameters\n",
        "  ----------\n",
        "  employees: list of a dictionary to iterate and assign hours to.\n",
        "  available_shifts: number of shifts needed to be covered.\n",
        "  \n",
        "  \"\"\"\n",
        "\n",
        "  #each guard has no hours assigned\n",
        "  for i in guards[employees]:\n",
        "    guards[i] = 0\n",
        "\n",
        "  #shifts needed to be covered \n",
        "  shifts_needed = available_shifts\n",
        "  shifts_covered = {}\n",
        "\n",
        "  #each guard is iterated through to assign regular hours \n",
        "  for person in guards[employees]:\n",
        "    if shifts_needed != 0:\n",
        "      if guards[person]<9:\n",
        "        sum = guards[person]\n",
        "        reg = 8 - sum\n",
        "        \n",
        "        #check that the shifts assigned is not more than those available\n",
        "        if reg > shifts_needed:\n",
        "          reg = shifts_needed\n",
        "        \n",
        "        #update hours of the guard\n",
        "        guards[person]= sum+reg\n",
        "\n",
        "        #subtract the number of shifts assigned from those needed\n",
        "        shifts_needed = shifts_needed - reg\n",
        "        shifts_covered[person] = reg\n",
        "        \n",
        "  #each guard is iterated through to assign overtime hours\n",
        "  for person in guards[employees]:\n",
        "    if shifts_needed > 0:\n",
        "      if guards[person]>8:\n",
        "        sum = guards[person]\n",
        "        overtime = 24-sum\n",
        "        \n",
        "        #check that the shifts assigned is not more than those available\n",
        "        if overtime > shifts_needed:\n",
        "          overtime = shifts_needed\n",
        "\n",
        "        #update hours of the guard\n",
        "        guards[person]= sum+overtime\n",
        "\n",
        "        #subtract the number of shifts assigned from those needed\n",
        "        shifts_needed = shifts_needed - overtime\n",
        "        shifts_covered[person] = sum+overtime\n",
        "\n",
        "  print(\"No. of Shifts\", shifts_covered)\n",
        "\n",
        "  wage_per_guard = shifts_covered.copy()\n",
        "\n",
        "  #calculate wage expenses\n",
        "  for key, value in shifts_covered.items():\n",
        "    if value < 9:\n",
        "      wage_per_guard[key] = value*15\n",
        "    else:\n",
        "      overtime = ((value - 8)*20)\n",
        "      wage_per_guard[key] = (8*15) + overtime\n",
        "\n",
        "\n",
        "  print(\"Wages: \", wage_per_guard)\n",
        "\n",
        "  #calculate total wage expenses\n",
        "  total = 0\n",
        "  for i in wage_per_guard.values():\n",
        "    total += i\n",
        "\n",
        "  print(\"Total Wages: $\", total)"
      ],
      "metadata": {
        "id": "OA6LVHjj6Adg"
      },
      "execution_count": null,
      "outputs": []
    },
    {
      "cell_type": "code",
      "source": [
        "shift_assignment('guard', 24)"
      ],
      "metadata": {
        "colab": {
          "base_uri": "https://localhost:8080/"
        },
        "id": "by6CR7-66fjl",
        "outputId": "590239b6-e6b5-4ff4-f924-e08ffbf6cfe8"
      },
      "execution_count": null,
      "outputs": [
        {
          "output_type": "stream",
          "name": "stdout",
          "text": [
            "No. of Shifts {'guard_1': 8, 'guard_2': 8, 'guard_3': 8}\n",
            "Wages:  {'guard_1': 120, 'guard_2': 120, 'guard_3': 120}\n",
            "Total Wages: $ 360\n"
          ]
        }
      ]
    },
    {
      "cell_type": "markdown",
      "source": [
        "### Design a solution for the case of a one week contract."
      ],
      "metadata": {
        "id": "lz-5heagBAZe"
      }
    },
    {
      "cell_type": "code",
      "source": [
        "guards = {}\n",
        "guards[\"guard\"] = [\"guard_1\", \"guard_2\", \"guard_3\",\"guard_4\", \"guard_5\", \"guard_6\"]"
      ],
      "metadata": {
        "id": "gqLPztfUdeFq"
      },
      "execution_count": null,
      "outputs": []
    },
    {
      "cell_type": "code",
      "source": [
        "for day in range(7): #7 days a week\n",
        "  print(\"Day\", day+1)\n",
        "  shift_assignment('guard', 24)"
      ],
      "metadata": {
        "colab": {
          "base_uri": "https://localhost:8080/"
        },
        "id": "Bw9p7Iogcopa",
        "outputId": "69a91ed6-cf9b-43cd-aebd-20cdec76675a"
      },
      "execution_count": null,
      "outputs": [
        {
          "output_type": "stream",
          "name": "stdout",
          "text": [
            "Day 1\n",
            "No. of Shifts {'guard_1': 8, 'guard_2': 8, 'guard_3': 8}\n",
            "Wages:  {'guard_1': 120, 'guard_2': 120, 'guard_3': 120}\n",
            "Total Wages: $ 360\n",
            "Day 2\n",
            "No. of Shifts {'guard_1': 8, 'guard_2': 8, 'guard_3': 8}\n",
            "Wages:  {'guard_1': 120, 'guard_2': 120, 'guard_3': 120}\n",
            "Total Wages: $ 360\n",
            "Day 3\n",
            "No. of Shifts {'guard_1': 8, 'guard_2': 8, 'guard_3': 8}\n",
            "Wages:  {'guard_1': 120, 'guard_2': 120, 'guard_3': 120}\n",
            "Total Wages: $ 360\n",
            "Day 4\n",
            "No. of Shifts {'guard_1': 8, 'guard_2': 8, 'guard_3': 8}\n",
            "Wages:  {'guard_1': 120, 'guard_2': 120, 'guard_3': 120}\n",
            "Total Wages: $ 360\n",
            "Day 5\n",
            "No. of Shifts {'guard_1': 8, 'guard_2': 8, 'guard_3': 8}\n",
            "Wages:  {'guard_1': 120, 'guard_2': 120, 'guard_3': 120}\n",
            "Total Wages: $ 360\n",
            "Day 6\n",
            "No. of Shifts {'guard_1': 8, 'guard_2': 8, 'guard_3': 8}\n",
            "Wages:  {'guard_1': 120, 'guard_2': 120, 'guard_3': 120}\n",
            "Total Wages: $ 360\n",
            "Day 7\n",
            "No. of Shifts {'guard_1': 8, 'guard_2': 8, 'guard_3': 8}\n",
            "Wages:  {'guard_1': 120, 'guard_2': 120, 'guard_3': 120}\n",
            "Total Wages: $ 360\n"
          ]
        }
      ]
    },
    {
      "cell_type": "markdown",
      "source": [
        "The shift_assignment algorithm is designed to minimize wage expenses by first assigning regular shift hours to those employees that do not have a total of 8 hours yet. If all employees have 8 hours already and there are still shifts that need to be covered, the overtime hours are assigned. The algorithm then calculates the total expenses based on regular and overtime pay for each employee. The shift_assignment algorithm was also used to calculate a one week contract. Because the number of regular hours each employee works resets back to 0 after each day, the algorithm was implemented into a loop to go through 7 days of assignments. \n",
        "\n",
        "The algorithm is greedy because it optimizes locally. It considers the available regular hours for the first employee in the set first and assigns as many available regular hours to this employee before moving on to the next employee. It hopes to assign as many regular shifts as possible to the local employees to end up with a global optimum. Similarly, the overtime hours are assigned by considering local optimizations. \n",
        "\n",
        "Because the algorithm is greedy, there could have been a better or alternative solution. One alternative solution was to distribute hours evenly between the guards. For the 24 hour contract, each of the six guards would have gotten four hours instead of each of the first three guards getting eight hours. For the one week contract, the first three guards in the dictionary of the guard list are assigned the hours each day. Another solution would have been to have a queue to assign different guards each day instead of the same set of three. These alternative solutions would have provided the same wage expenses as the greedy algorithm used as well as considered the assignment across each guard in the list. \n",
        "\n",
        "The algorithm uses a hash table or dictionary to store the guards, so the time complexity to read each guard is O(1). For each guard, the value of the key is read at O(1) and the value is also updated at O(1). The shifts_covered dictionary is then used updated with the number of shifts for that person at O(1). Each time a guard is called results in a time complexity of O(N+N+N+N)=O(4N) where N is number of guards called in the regular and overtime assignments.\n",
        "\n",
        "For each key value pair in shifts_covered, it is read in at O(1) and used to calcuate the value to be inserted into wage_per_guard at O(1). The total wage expenses also iterates through the values in wages_per_guard dictionary at O(1). The time complexity for this part of the code is O(3P) where P is the key value pairs. P can differ from that of N since a person can be called once in regular and once in overtime while P is called once for each person. The overall time complexity is approxiamtely O(4N+3P).\n",
        "\n",
        "Because it reads and updates the dictionaries less times than the other alternative methods that aim to evenly distribute the shifts among the guards, the time complexity for the greedy algorithm scales better than that of the alternatives. Greedy algorithms scale at a better rate than that of more exact algorithms. It approximates a solution that is close enough to the perfect solution with the advantage of faster performance times. This is useful to data engineers to implement greedy algorithms instead of more exact algorithms to calculate more difficult problems such as NP-complete problems that are known to have no fast solutions.\n",
        "\n",
        "If the scenario had shorter shifts from one hour to half hour shifts, the algorithm would have to be revised and the regular and overtime hours need to be converted to half hour units. For example, where the algorithm assigns regular hour shifts, it needs to be converted from if the value is less than 9 hours to 18 half hours. The calculation of wage expenses also need to be converted to take into consideration of the change in units. Otherwise, the algorithm will still output the minimized wage expense. For values that do not factor as nicely 8 hour shifts for each guard, the algorithm takes that into consideration by checking if the number of hours that the guard can take on is greater than the hours needed. If it is, the hours are reduced to the same number of shifts still needed to zero out the shifts. If some or all the guards have a few hours assigned to them before undergoing the algorithm, the first part of the algorithm that assigns each guard zero hours needs to be revised because then the algorithm will not consider those extra hours and change the optimal output by spending more on overtime hours. \n",
        "\n",
        "If not constrained by having to use a greedy algorithm, a possible solution would have been to take the total number of employees and muliply that number by 8 hours to evaluate the total regular hours that can be subtracted from the total hours needed. If the total hours needed is less than that of the total number of employees, each hour of the total overtime hours would be randomly assigned to a guard until the shifts needed is at zero. This algorithm would have minimized the wage expenses by considering the regular hours before overtime hours. It also considered evenly distributing the hours to the guards."
      ],
      "metadata": {
        "id": "OwU0-Dv93poq"
      }
    }
  ]
}
